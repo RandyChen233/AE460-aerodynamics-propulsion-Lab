{
 "cells": [
  {
   "cell_type": "code",
   "execution_count": 48,
   "metadata": {},
   "outputs": [],
   "source": [
    "import numpy as np\n",
    "import matplotlib.pyplot as plt\n",
    "import pandas as pd\n",
    "import seaborn as sns"
   ]
  },
  {
   "cell_type": "markdown",
   "metadata": {},
   "source": [
    "### Task1"
   ]
  },
  {
   "cell_type": "code",
   "execution_count": 9,
   "metadata": {},
   "outputs": [],
   "source": [
    "df = pd.read_csv('lab1_data',delimiter = ',',skiprows=1)"
   ]
  },
  {
   "cell_type": "code",
   "execution_count": 10,
   "metadata": {},
   "outputs": [
    {
     "data": {
      "text/html": [
       "<div>\n",
       "<style scoped>\n",
       "    .dataframe tbody tr th:only-of-type {\n",
       "        vertical-align: middle;\n",
       "    }\n",
       "\n",
       "    .dataframe tbody tr th {\n",
       "        vertical-align: top;\n",
       "    }\n",
       "\n",
       "    .dataframe thead th {\n",
       "        text-align: right;\n",
       "    }\n",
       "</style>\n",
       "<table border=\"1\" class=\"dataframe\">\n",
       "  <thead>\n",
       "    <tr style=\"text-align: right;\">\n",
       "      <th></th>\n",
       "      <th>Data Point #</th>\n",
       "      <th>Motor Speed [RPM]</th>\n",
       "      <th>Manometer delta P [dpsi]</th>\n",
       "      <th>Ambient Temp.[R]</th>\n",
       "      <th>Viscosity [slug/ft s]</th>\n",
       "      <th>Ambient Press. [psia]</th>\n",
       "      <th>Omega Transmitter delta P [dpsi]</th>\n",
       "      <th>RakeT1 [psid]</th>\n",
       "      <th>RakeT2 [psid]</th>\n",
       "      <th>RakeT3 [psid]</th>\n",
       "      <th>...</th>\n",
       "      <th>RakeT5 [psid]</th>\n",
       "      <th>RakeT6 [psid]</th>\n",
       "      <th>RakeT7 [psid]</th>\n",
       "      <th>RakeT8 [psid]</th>\n",
       "      <th>RakeT9 [psid]</th>\n",
       "      <th>RakeS1 [psid]</th>\n",
       "      <th>RakeS2 [psid]</th>\n",
       "      <th>RakeS3 [psid]</th>\n",
       "      <th>RakeS4 [psid]</th>\n",
       "      <th>RakeS5 [psid]</th>\n",
       "    </tr>\n",
       "  </thead>\n",
       "  <tbody>\n",
       "    <tr>\n",
       "      <th>0</th>\n",
       "      <td>1.0</td>\n",
       "      <td>400.0</td>\n",
       "      <td>0.005780</td>\n",
       "      <td>540.27</td>\n",
       "      <td>3.856930e-07</td>\n",
       "      <td>14.22862</td>\n",
       "      <td>0.005581</td>\n",
       "      <td>0.004678</td>\n",
       "      <td>0.004670</td>\n",
       "      <td>0.004730</td>\n",
       "      <td>...</td>\n",
       "      <td>0.004747</td>\n",
       "      <td>0.004824</td>\n",
       "      <td>0.004778</td>\n",
       "      <td>0.004714</td>\n",
       "      <td>0.004683</td>\n",
       "      <td>0.000079</td>\n",
       "      <td>0.000135</td>\n",
       "      <td>0.000046</td>\n",
       "      <td>0.000050</td>\n",
       "      <td>0.000007</td>\n",
       "    </tr>\n",
       "    <tr>\n",
       "      <th>1</th>\n",
       "      <td>2.0</td>\n",
       "      <td>500.0</td>\n",
       "      <td>0.008671</td>\n",
       "      <td>540.27</td>\n",
       "      <td>3.856930e-07</td>\n",
       "      <td>14.22862</td>\n",
       "      <td>0.008935</td>\n",
       "      <td>0.007642</td>\n",
       "      <td>0.007608</td>\n",
       "      <td>0.007689</td>\n",
       "      <td>...</td>\n",
       "      <td>0.007712</td>\n",
       "      <td>0.007830</td>\n",
       "      <td>0.007671</td>\n",
       "      <td>0.007596</td>\n",
       "      <td>0.007516</td>\n",
       "      <td>0.000131</td>\n",
       "      <td>0.000209</td>\n",
       "      <td>0.000063</td>\n",
       "      <td>0.000091</td>\n",
       "      <td>0.000068</td>\n",
       "    </tr>\n",
       "    <tr>\n",
       "      <th>2</th>\n",
       "      <td>3.0</td>\n",
       "      <td>600.0</td>\n",
       "      <td>0.013006</td>\n",
       "      <td>540.27</td>\n",
       "      <td>3.856930e-07</td>\n",
       "      <td>14.22862</td>\n",
       "      <td>0.013304</td>\n",
       "      <td>0.011529</td>\n",
       "      <td>0.011420</td>\n",
       "      <td>0.011549</td>\n",
       "      <td>...</td>\n",
       "      <td>0.011612</td>\n",
       "      <td>0.011724</td>\n",
       "      <td>0.011529</td>\n",
       "      <td>0.011484</td>\n",
       "      <td>0.011376</td>\n",
       "      <td>0.000142</td>\n",
       "      <td>0.000235</td>\n",
       "      <td>0.000072</td>\n",
       "      <td>0.000181</td>\n",
       "      <td>0.000030</td>\n",
       "    </tr>\n",
       "    <tr>\n",
       "      <th>3</th>\n",
       "      <td>4.0</td>\n",
       "      <td>700.0</td>\n",
       "      <td>0.018064</td>\n",
       "      <td>540.27</td>\n",
       "      <td>3.856930e-07</td>\n",
       "      <td>14.22862</td>\n",
       "      <td>0.018328</td>\n",
       "      <td>0.016409</td>\n",
       "      <td>0.016146</td>\n",
       "      <td>0.016332</td>\n",
       "      <td>...</td>\n",
       "      <td>0.016460</td>\n",
       "      <td>0.016625</td>\n",
       "      <td>0.016314</td>\n",
       "      <td>0.016307</td>\n",
       "      <td>0.016180</td>\n",
       "      <td>0.000249</td>\n",
       "      <td>0.000370</td>\n",
       "      <td>0.000129</td>\n",
       "      <td>0.000212</td>\n",
       "      <td>0.000097</td>\n",
       "    </tr>\n",
       "    <tr>\n",
       "      <th>4</th>\n",
       "      <td>5.0</td>\n",
       "      <td>800.0</td>\n",
       "      <td>0.023844</td>\n",
       "      <td>540.27</td>\n",
       "      <td>3.856930e-07</td>\n",
       "      <td>14.22862</td>\n",
       "      <td>0.023865</td>\n",
       "      <td>0.021370</td>\n",
       "      <td>0.021158</td>\n",
       "      <td>0.021298</td>\n",
       "      <td>...</td>\n",
       "      <td>0.021474</td>\n",
       "      <td>0.021649</td>\n",
       "      <td>0.021264</td>\n",
       "      <td>0.021263</td>\n",
       "      <td>0.021105</td>\n",
       "      <td>0.000304</td>\n",
       "      <td>0.000417</td>\n",
       "      <td>0.000153</td>\n",
       "      <td>0.000225</td>\n",
       "      <td>0.000106</td>\n",
       "    </tr>\n",
       "  </tbody>\n",
       "</table>\n",
       "<p>5 rows × 21 columns</p>\n",
       "</div>"
      ],
      "text/plain": [
       "   Data Point #   Motor Speed [RPM]   Manometer delta P [dpsi]  \\\n",
       "0           1.0               400.0                   0.005780   \n",
       "1           2.0               500.0                   0.008671   \n",
       "2           3.0               600.0                   0.013006   \n",
       "3           4.0               700.0                   0.018064   \n",
       "4           5.0               800.0                   0.023844   \n",
       "\n",
       "    Ambient Temp.[R]   Viscosity [slug/ft s]   Ambient Press. [psia]  \\\n",
       "0             540.27            3.856930e-07                14.22862   \n",
       "1             540.27            3.856930e-07                14.22862   \n",
       "2             540.27            3.856930e-07                14.22862   \n",
       "3             540.27            3.856930e-07                14.22862   \n",
       "4             540.27            3.856930e-07                14.22862   \n",
       "\n",
       "    Omega Transmitter delta P [dpsi]   RakeT1 [psid]  RakeT2 [psid]  \\\n",
       "0                           0.005581        0.004678       0.004670   \n",
       "1                           0.008935        0.007642       0.007608   \n",
       "2                           0.013304        0.011529       0.011420   \n",
       "3                           0.018328        0.016409       0.016146   \n",
       "4                           0.023865        0.021370       0.021158   \n",
       "\n",
       "   RakeT3 [psid]  ...  RakeT5 [psid]  RakeT6 [psid]  RakeT7 [psid]  \\\n",
       "0       0.004730  ...       0.004747       0.004824       0.004778   \n",
       "1       0.007689  ...       0.007712       0.007830       0.007671   \n",
       "2       0.011549  ...       0.011612       0.011724       0.011529   \n",
       "3       0.016332  ...       0.016460       0.016625       0.016314   \n",
       "4       0.021298  ...       0.021474       0.021649       0.021264   \n",
       "\n",
       "   RakeT8 [psid]  RakeT9 [psid]  RakeS1 [psid]  RakeS2 [psid]  RakeS3 [psid]  \\\n",
       "0       0.004714       0.004683       0.000079       0.000135       0.000046   \n",
       "1       0.007596       0.007516       0.000131       0.000209       0.000063   \n",
       "2       0.011484       0.011376       0.000142       0.000235       0.000072   \n",
       "3       0.016307       0.016180       0.000249       0.000370       0.000129   \n",
       "4       0.021263       0.021105       0.000304       0.000417       0.000153   \n",
       "\n",
       "   RakeS4 [psid]  RakeS5 [psid]  \n",
       "0       0.000050       0.000007  \n",
       "1       0.000091       0.000068  \n",
       "2       0.000181       0.000030  \n",
       "3       0.000212       0.000097  \n",
       "4       0.000225       0.000106  \n",
       "\n",
       "[5 rows x 21 columns]"
      ]
     },
     "execution_count": 10,
     "metadata": {},
     "output_type": "execute_result"
    }
   ],
   "source": [
    "df.head()\n"
   ]
  },
  {
   "cell_type": "code",
   "execution_count": 11,
   "metadata": {},
   "outputs": [
    {
     "data": {
      "text/plain": [
       "Index(['Data Point #', ' Motor Speed [RPM]', ' Manometer delta P [dpsi]',\n",
       "       ' Ambient Temp.[R]', ' Viscosity [slug/ft s]', ' Ambient Press. [psia]',\n",
       "       ' Omega Transmitter delta P [dpsi]', ' RakeT1 [psid]', 'RakeT2 [psid]',\n",
       "       'RakeT3 [psid]', 'RakeT4 [psid]', 'RakeT5 [psid]', 'RakeT6 [psid]',\n",
       "       'RakeT7 [psid]', 'RakeT8 [psid]', 'RakeT9 [psid]', 'RakeS1 [psid]',\n",
       "       'RakeS2 [psid]', 'RakeS3 [psid]', 'RakeS4 [psid]', 'RakeS5 [psid]'],\n",
       "      dtype='object')"
      ]
     },
     "execution_count": 11,
     "metadata": {},
     "output_type": "execute_result"
    }
   ],
   "source": [
    "df.columns"
   ]
  },
  {
   "cell_type": "code",
   "execution_count": 29,
   "metadata": {},
   "outputs": [],
   "source": [
    "df['avg_tot_pressure'] = (df[' RakeT1 [psid]']+df['RakeT2 [psid]']+df['RakeT3 [psid]']+df['RakeT4 [psid]']+df['RakeT5 [psid]']+\\\n",
    "            df['RakeT6 [psid]']+df['RakeT7 [psid]']+df['RakeT8 [psid]']+df['RakeT9 [psid]'])/9"
   ]
  },
  {
   "cell_type": "code",
   "execution_count": 30,
   "metadata": {},
   "outputs": [
    {
     "data": {
      "text/plain": [
       "0     0.004730\n",
       "1     0.007663\n",
       "2     0.011533\n",
       "3     0.016355\n",
       "4     0.021332\n",
       "5     0.027001\n",
       "6     0.034970\n",
       "7     0.042159\n",
       "8     0.048591\n",
       "9     0.058211\n",
       "10    0.067717\n",
       "dtype: float64"
      ]
     },
     "execution_count": 30,
     "metadata": {},
     "output_type": "execute_result"
    }
   ],
   "source": [
    "avg_tot_pressure"
   ]
  },
  {
   "cell_type": "code",
   "execution_count": 31,
   "metadata": {},
   "outputs": [],
   "source": [
    "df['avg_stat_pressure'] = (df['RakeS1 [psid]']+df['RakeS2 [psid]']+df['RakeS3 [psid]']+df['RakeS4 [psid]']+df['RakeS5 [psid]'])/5"
   ]
  },
  {
   "cell_type": "code",
   "execution_count": 32,
   "metadata": {},
   "outputs": [
    {
     "data": {
      "text/plain": [
       "0     0.000063\n",
       "1     0.000112\n",
       "2     0.000132\n",
       "3     0.000212\n",
       "4     0.000241\n",
       "5     0.000331\n",
       "6     0.000326\n",
       "7     0.000468\n",
       "8     0.000436\n",
       "9     0.000494\n",
       "10    0.000381\n",
       "dtype: float64"
      ]
     },
     "execution_count": 32,
     "metadata": {},
     "output_type": "execute_result"
    }
   ],
   "source": [
    "avg_stat_pressure"
   ]
  },
  {
   "cell_type": "code",
   "execution_count": 33,
   "metadata": {},
   "outputs": [],
   "source": [
    "df['q_actual'] = avg_tot_pressure-avg_stat_pressure"
   ]
  },
  {
   "cell_type": "code",
   "execution_count": 34,
   "metadata": {},
   "outputs": [
    {
     "data": {
      "text/plain": [
       "0     0.004667\n",
       "1     0.007551\n",
       "2     0.011401\n",
       "3     0.016144\n",
       "4     0.021091\n",
       "5     0.026670\n",
       "6     0.034644\n",
       "7     0.041690\n",
       "8     0.048155\n",
       "9     0.057718\n",
       "10    0.067336\n",
       "dtype: float64"
      ]
     },
     "execution_count": 34,
     "metadata": {},
     "output_type": "execute_result"
    }
   ],
   "source": [
    "q_actual"
   ]
  },
  {
   "cell_type": "code",
   "execution_count": 38,
   "metadata": {},
   "outputs": [],
   "source": [
    "table = df[['Data Point #',' Motor Speed [RPM]','avg_tot_pressure','avg_stat_pressure','q_actual']]"
   ]
  },
  {
   "cell_type": "code",
   "execution_count": 39,
   "metadata": {},
   "outputs": [
    {
     "data": {
      "text/html": [
       "<div>\n",
       "<style scoped>\n",
       "    .dataframe tbody tr th:only-of-type {\n",
       "        vertical-align: middle;\n",
       "    }\n",
       "\n",
       "    .dataframe tbody tr th {\n",
       "        vertical-align: top;\n",
       "    }\n",
       "\n",
       "    .dataframe thead th {\n",
       "        text-align: right;\n",
       "    }\n",
       "</style>\n",
       "<table border=\"1\" class=\"dataframe\">\n",
       "  <thead>\n",
       "    <tr style=\"text-align: right;\">\n",
       "      <th></th>\n",
       "      <th>Data Point #</th>\n",
       "      <th>Motor Speed [RPM]</th>\n",
       "      <th>avg_tot_pressure</th>\n",
       "      <th>avg_stat_pressure</th>\n",
       "      <th>q_actual</th>\n",
       "    </tr>\n",
       "  </thead>\n",
       "  <tbody>\n",
       "    <tr>\n",
       "      <th>0</th>\n",
       "      <td>1.0</td>\n",
       "      <td>400.0</td>\n",
       "      <td>0.004730</td>\n",
       "      <td>0.000063</td>\n",
       "      <td>0.004667</td>\n",
       "    </tr>\n",
       "    <tr>\n",
       "      <th>1</th>\n",
       "      <td>2.0</td>\n",
       "      <td>500.0</td>\n",
       "      <td>0.007663</td>\n",
       "      <td>0.000112</td>\n",
       "      <td>0.007551</td>\n",
       "    </tr>\n",
       "    <tr>\n",
       "      <th>2</th>\n",
       "      <td>3.0</td>\n",
       "      <td>600.0</td>\n",
       "      <td>0.011533</td>\n",
       "      <td>0.000132</td>\n",
       "      <td>0.011401</td>\n",
       "    </tr>\n",
       "    <tr>\n",
       "      <th>3</th>\n",
       "      <td>4.0</td>\n",
       "      <td>700.0</td>\n",
       "      <td>0.016355</td>\n",
       "      <td>0.000212</td>\n",
       "      <td>0.016144</td>\n",
       "    </tr>\n",
       "    <tr>\n",
       "      <th>4</th>\n",
       "      <td>5.0</td>\n",
       "      <td>800.0</td>\n",
       "      <td>0.021332</td>\n",
       "      <td>0.000241</td>\n",
       "      <td>0.021091</td>\n",
       "    </tr>\n",
       "    <tr>\n",
       "      <th>5</th>\n",
       "      <td>6.0</td>\n",
       "      <td>900.0</td>\n",
       "      <td>0.027001</td>\n",
       "      <td>0.000331</td>\n",
       "      <td>0.026670</td>\n",
       "    </tr>\n",
       "    <tr>\n",
       "      <th>6</th>\n",
       "      <td>7.0</td>\n",
       "      <td>1000.0</td>\n",
       "      <td>0.034970</td>\n",
       "      <td>0.000326</td>\n",
       "      <td>0.034644</td>\n",
       "    </tr>\n",
       "    <tr>\n",
       "      <th>7</th>\n",
       "      <td>8.0</td>\n",
       "      <td>1100.0</td>\n",
       "      <td>0.042159</td>\n",
       "      <td>0.000468</td>\n",
       "      <td>0.041690</td>\n",
       "    </tr>\n",
       "    <tr>\n",
       "      <th>8</th>\n",
       "      <td>9.0</td>\n",
       "      <td>1200.0</td>\n",
       "      <td>0.048591</td>\n",
       "      <td>0.000436</td>\n",
       "      <td>0.048155</td>\n",
       "    </tr>\n",
       "    <tr>\n",
       "      <th>9</th>\n",
       "      <td>10.0</td>\n",
       "      <td>1300.0</td>\n",
       "      <td>0.058211</td>\n",
       "      <td>0.000494</td>\n",
       "      <td>0.057718</td>\n",
       "    </tr>\n",
       "    <tr>\n",
       "      <th>10</th>\n",
       "      <td>11.0</td>\n",
       "      <td>1400.0</td>\n",
       "      <td>0.067717</td>\n",
       "      <td>0.000381</td>\n",
       "      <td>0.067336</td>\n",
       "    </tr>\n",
       "  </tbody>\n",
       "</table>\n",
       "</div>"
      ],
      "text/plain": [
       "    Data Point #   Motor Speed [RPM]  avg_tot_pressure  avg_stat_pressure  \\\n",
       "0            1.0               400.0          0.004730           0.000063   \n",
       "1            2.0               500.0          0.007663           0.000112   \n",
       "2            3.0               600.0          0.011533           0.000132   \n",
       "3            4.0               700.0          0.016355           0.000212   \n",
       "4            5.0               800.0          0.021332           0.000241   \n",
       "5            6.0               900.0          0.027001           0.000331   \n",
       "6            7.0              1000.0          0.034970           0.000326   \n",
       "7            8.0              1100.0          0.042159           0.000468   \n",
       "8            9.0              1200.0          0.048591           0.000436   \n",
       "9           10.0              1300.0          0.058211           0.000494   \n",
       "10          11.0              1400.0          0.067717           0.000381   \n",
       "\n",
       "    q_actual  \n",
       "0   0.004667  \n",
       "1   0.007551  \n",
       "2   0.011401  \n",
       "3   0.016144  \n",
       "4   0.021091  \n",
       "5   0.026670  \n",
       "6   0.034644  \n",
       "7   0.041690  \n",
       "8   0.048155  \n",
       "9   0.057718  \n",
       "10  0.067336  "
      ]
     },
     "execution_count": 39,
     "metadata": {},
     "output_type": "execute_result"
    }
   ],
   "source": [
    "table"
   ]
  },
  {
   "cell_type": "code",
   "execution_count": 47,
   "metadata": {},
   "outputs": [],
   "source": [
    "table.to_excel('table.xlsx')"
   ]
  },
  {
   "cell_type": "code",
   "execution_count": 57,
   "metadata": {},
   "outputs": [
    {
     "data": {
      "image/png": "[encoded data removed]",
      "text/plain": [
       "<Figure size 720x576 with 1 Axes>"
      ]
     },
     "metadata": {
      "needs_background": "light"
     },
     "output_type": "display_data"
    }
   ],
   "source": [
    "plt.figure(figsize=(10,8));\n",
    "sns.lineplot(x=' Motor Speed [RPM]',y='q_actual',data=table);\n",
    "plt.title('Actual Dynamic Pressure vs Motor Speed',fontsize=14)\n",
    "plt.xlabel('Motor Speed(RPM)',fontsize=13);\n",
    "plt.ylabel('Actual Dynamic Pressure(Psi)',fontsize=13);\n",
    "plt.savefig('q_actual vs Motorspeed')"
   ]
  },
  {
   "cell_type": "markdown",
   "metadata": {},
   "source": [
    "### Task 2"
   ]
  },
  {
   "cell_type": "code",
   "execution_count": 58,
   "metadata": {},
   "outputs": [],
   "source": [
    "# mass-specific gas constant for air is 1717( ... ) in imperial unit!!!!\n",
    "#use ideal gas law to calculate the density:\n",
    "df['density'] = df['avg_stat_pressure']/(1717*df[' Ambient Temp.[R]'])\n",
    "\n",
    "#use dynamic pressure relation to calculate the actual velocity\n",
    "\n",
    "df['actual_velocity'] =np.sqrt( 2*df['q_actual']/df['density'] )"
   ]
  },
  {
   "cell_type": "code",
   "execution_count": 59,
   "metadata": {},
   "outputs": [],
   "source": [
    "#Reynold's number with no length scale:\n",
    "\n",
    "df['Re'] = df['density']*df['actual_velocity']/df[' Viscosity [slug/ft s]']\n"
   ]
  },
  {
   "cell_type": "code",
   "execution_count": 60,
   "metadata": {},
   "outputs": [],
   "source": [
    "#Mach number: Ma = V/a\n",
    "# a = sqrt(gamma*R*T)\n",
    "df['sound_speed'] = np.sqrt(1.4*1717*df[' Ambient Temp.[R]'])\n",
    "\n",
    "df['Mach number'] = df['actual_velocity']/df['sound_speed']\n"
   ]
  },
  {
   "cell_type": "code",
   "execution_count": 61,
   "metadata": {},
   "outputs": [],
   "source": [
    "table2= df[['Data Point #', ' Motor Speed [RPM]','q_actual','actual_velocity','Re','Mach number']]"
   ]
  },
  {
   "cell_type": "code",
   "execution_count": 62,
   "metadata": {},
   "outputs": [
    {
     "data": {
      "text/html": [
       "<div>\n",
       "<style scoped>\n",
       "    .dataframe tbody tr th:only-of-type {\n",
       "        vertical-align: middle;\n",
       "    }\n",
       "\n",
       "    .dataframe tbody tr th {\n",
       "        vertical-align: top;\n",
       "    }\n",
       "\n",
       "    .dataframe thead th {\n",
       "        text-align: right;\n",
       "    }\n",
       "</style>\n",
       "<table border=\"1\" class=\"dataframe\">\n",
       "  <thead>\n",
       "    <tr style=\"text-align: right;\">\n",
       "      <th></th>\n",
       "      <th>Data Point #</th>\n",
       "      <th>Motor Speed [RPM]</th>\n",
       "      <th>q_actual</th>\n",
       "      <th>actual_velocity</th>\n",
       "      <th>Re</th>\n",
       "      <th>Mach number</th>\n",
       "    </tr>\n",
       "  </thead>\n",
       "  <tbody>\n",
       "    <tr>\n",
       "      <th>0</th>\n",
       "      <td>1.0</td>\n",
       "      <td>400.0</td>\n",
       "      <td>0.004667</td>\n",
       "      <td>11679.165076</td>\n",
       "      <td>2.071954</td>\n",
       "      <td>10.248427</td>\n",
       "    </tr>\n",
       "    <tr>\n",
       "      <th>1</th>\n",
       "      <td>2.0</td>\n",
       "      <td>500.0</td>\n",
       "      <td>0.007551</td>\n",
       "      <td>11174.620502</td>\n",
       "      <td>3.504103</td>\n",
       "      <td>9.805691</td>\n",
       "    </tr>\n",
       "    <tr>\n",
       "      <th>2</th>\n",
       "      <td>3.0</td>\n",
       "      <td>600.0</td>\n",
       "      <td>0.011401</td>\n",
       "      <td>12646.313702</td>\n",
       "      <td>4.674871</td>\n",
       "      <td>11.097096</td>\n",
       "    </tr>\n",
       "    <tr>\n",
       "      <th>3</th>\n",
       "      <td>4.0</td>\n",
       "      <td>700.0</td>\n",
       "      <td>0.016144</td>\n",
       "      <td>11898.199542</td>\n",
       "      <td>7.035672</td>\n",
       "      <td>10.440629</td>\n",
       "    </tr>\n",
       "    <tr>\n",
       "      <th>4</th>\n",
       "      <td>5.0</td>\n",
       "      <td>800.0</td>\n",
       "      <td>0.021091</td>\n",
       "      <td>12740.924756</td>\n",
       "      <td>8.584029</td>\n",
       "      <td>11.180117</td>\n",
       "    </tr>\n",
       "    <tr>\n",
       "      <th>5</th>\n",
       "      <td>6.0</td>\n",
       "      <td>900.0</td>\n",
       "      <td>0.026670</td>\n",
       "      <td>12224.574080</td>\n",
       "      <td>11.313025</td>\n",
       "      <td>10.727021</td>\n",
       "    </tr>\n",
       "    <tr>\n",
       "      <th>6</th>\n",
       "      <td>7.0</td>\n",
       "      <td>1000.0</td>\n",
       "      <td>0.034644</td>\n",
       "      <td>14043.612165</td>\n",
       "      <td>12.792054</td>\n",
       "      <td>12.323221</td>\n",
       "    </tr>\n",
       "    <tr>\n",
       "      <th>7</th>\n",
       "      <td>8.0</td>\n",
       "      <td>1100.0</td>\n",
       "      <td>0.041690</td>\n",
       "      <td>12851.649075</td>\n",
       "      <td>16.821561</td>\n",
       "      <td>11.277277</td>\n",
       "    </tr>\n",
       "    <tr>\n",
       "      <th>8</th>\n",
       "      <td>9.0</td>\n",
       "      <td>1200.0</td>\n",
       "      <td>0.048155</td>\n",
       "      <td>14313.248347</td>\n",
       "      <td>17.445955</td>\n",
       "      <td>12.559826</td>\n",
       "    </tr>\n",
       "    <tr>\n",
       "      <th>9</th>\n",
       "      <td>10.0</td>\n",
       "      <td>1300.0</td>\n",
       "      <td>0.057718</td>\n",
       "      <td>14729.360247</td>\n",
       "      <td>20.319481</td>\n",
       "      <td>12.924963</td>\n",
       "    </tr>\n",
       "    <tr>\n",
       "      <th>10</th>\n",
       "      <td>11.0</td>\n",
       "      <td>1400.0</td>\n",
       "      <td>0.067336</td>\n",
       "      <td>18101.683937</td>\n",
       "      <td>19.289341</td>\n",
       "      <td>15.884165</td>\n",
       "    </tr>\n",
       "  </tbody>\n",
       "</table>\n",
       "</div>"
      ],
      "text/plain": [
       "    Data Point #   Motor Speed [RPM]  q_actual  actual_velocity         Re  \\\n",
       "0            1.0               400.0  0.004667     11679.165076   2.071954   \n",
       "1            2.0               500.0  0.007551     11174.620502   3.504103   \n",
       "2            3.0               600.0  0.011401     12646.313702   4.674871   \n",
       "3            4.0               700.0  0.016144     11898.199542   7.035672   \n",
       "4            5.0               800.0  0.021091     12740.924756   8.584029   \n",
       "5            6.0               900.0  0.026670     12224.574080  11.313025   \n",
       "6            7.0              1000.0  0.034644     14043.612165  12.792054   \n",
       "7            8.0              1100.0  0.041690     12851.649075  16.821561   \n",
       "8            9.0              1200.0  0.048155     14313.248347  17.445955   \n",
       "9           10.0              1300.0  0.057718     14729.360247  20.319481   \n",
       "10          11.0              1400.0  0.067336     18101.683937  19.289341   \n",
       "\n",
       "    Mach number  \n",
       "0     10.248427  \n",
       "1      9.805691  \n",
       "2     11.097096  \n",
       "3     10.440629  \n",
       "4     11.180117  \n",
       "5     10.727021  \n",
       "6     12.323221  \n",
       "7     11.277277  \n",
       "8     12.559826  \n",
       "9     12.924963  \n",
       "10    15.884165  "
      ]
     },
     "execution_count": 62,
     "metadata": {},
     "output_type": "execute_result"
    }
   ],
   "source": [
    "table2"
   ]
  },
  {
   "cell_type": "code",
   "execution_count": 63,
   "metadata": {},
   "outputs": [],
   "source": [
    "table2.to_excel('table2.xlsx')"
   ]
  },
  {
   "cell_type": "code",
   "execution_count": 75,
   "metadata": {},
   "outputs": [
    {
     "data": {
      "image/png": "[encoded data removed]",
      "text/plain": [
       "<Figure size 600x400 with 1 Axes>"
      ]
     },
     "metadata": {
      "needs_background": "light"
     },
     "output_type": "display_data"
    }
   ],
   "source": [
    "plt.figure(dpi=100)\n",
    "sns.lineplot(x=' Motor Speed [RPM]',y='q_actual',data=df,color='g');\n"
   ]
  },
  {
   "cell_type": "code",
   "execution_count": 76,
   "metadata": {},
   "outputs": [
    {
     "data": {
      "text/plain": [
       "<matplotlib.axes._subplots.AxesSubplot at 0x265c5e0aec8>"
      ]
     },
     "execution_count": 76,
     "metadata": {},
     "output_type": "execute_result"
    },
    {
     "data": {
      "image/png": "[encoded data removed]",
      "text/plain": [
       "<Figure size 600x400 with 1 Axes>"
      ]
     },
     "metadata": {
      "needs_background": "light"
     },
     "output_type": "display_data"
    }
   ],
   "source": [
    "plt.figure(dpi=100)\n",
    "sns.lineplot(x=' Motor Speed [RPM]',y='actual_velocity',data=df,color='b')"
   ]
  },
  {
   "cell_type": "code",
   "execution_count": 77,
   "metadata": {},
   "outputs": [
    {
     "data": {
      "text/plain": [
       "<matplotlib.axes._subplots.AxesSubplot at 0x265c5ed5788>"
      ]
     },
     "execution_count": 77,
     "metadata": {},
     "output_type": "execute_result"
    },
    {
     "data": {
      "image/png": "[encoded data removed]",
      "text/plain": [
       "<Figure size 600x400 with 1 Axes>"
      ]
     },
     "metadata": {
      "needs_background": "light"
     },
     "output_type": "display_data"
    }
   ],
   "source": [
    "plt.figure(dpi=100)\n",
    "sns.lineplot(x=' Motor Speed [RPM]',y='Re',data=df,color='r')"
   ]
  },
  {
   "cell_type": "code",
   "execution_count": 78,
   "metadata": {},
   "outputs": [
    {
     "data": {
      "text/plain": [
       "<matplotlib.axes._subplots.AxesSubplot at 0x265c5f3d088>"
      ]
     },
     "execution_count": 78,
     "metadata": {},
     "output_type": "execute_result"
    },
    {
     "data": {
      "image/png": "[encoded data removed]",
      "text/plain": [
       "<Figure size 600x400 with 1 Axes>"
      ]
     },
     "metadata": {
      "needs_background": "light"
     },
     "output_type": "display_data"
    }
   ],
   "source": [
    "plt.figure(dpi=100)\n",
    "sns.lineplot(x=' Motor Speed [RPM]',y='Mach number',data=df,color='y')"
   ]
  },
  {
   "cell_type": "markdown",
   "metadata": {},
   "source": [
    "### Task 3"
   ]
  },
  {
   "cell_type": "code",
   "execution_count": null,
   "metadata": {},
   "outputs": [],
   "source": []
  }
 ],
 "metadata": {
  "kernelspec": {
   "display_name": "Python 3",
   "language": "python",
   "name": "python3"
  },
  "language_info": {
   "codemirror_mode": {
    "name": "ipython",
    "version": 3
   },
   "file_extension": ".py",
   "mimetype": "text/x-python",
   "name": "python",
   "nbconvert_exporter": "python",
   "pygments_lexer": "ipython3",
   "version": "3.7.6"
  }
 },
 "nbformat": 4,
 "nbformat_minor": 4
}
