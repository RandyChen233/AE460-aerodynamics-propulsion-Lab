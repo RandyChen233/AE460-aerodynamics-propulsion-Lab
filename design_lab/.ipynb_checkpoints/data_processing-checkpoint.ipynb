{
 "cells": [
  {
   "cell_type": "code",
   "execution_count": 1,
   "id": "a9320a1f",
   "metadata": {},
   "outputs": [],
   "source": [
    "import pandas as pd\n",
    "import numpy as np\n",
    "import matplotlib.pyplot as plt\n",
    "import seaborn as sns"
   ]
  },
  {
   "cell_type": "code",
   "execution_count": 88,
   "id": "41fb86a8",
   "metadata": {},
   "outputs": [],
   "source": [
    "file_name = 'designlab_#{}.csv'\n",
    "df_list = []\n",
    "for i in range(1, 5):\n",
    "    df_list.append(pd.read_csv(file_name.format(i),skiprows=3))\n",
    "    df_list[i-1] = df_list[i-1].drop(labels=0,axis=0)\n",
    "    df_list[i-1].columns = ['Data Point', 'Corr Factor', 'Length Scale[in]', 'AmbPress[psia]', 'AmbTemp[R]',\n",
    "       'Density[slug/ft3]', 'Viscosity[slug/ft s]', 'Motor Speed[RPM]', 'Angle of Attack[deg]',\n",
    "       'Corrected q', 'Avg Velocity[ft/s]', 'Reynolds number', 'Axial Force[Lbf]',\n",
    "       'Normal Force[Lbf]', 'Pitching Mom[in-Lbf]']\n",
    "    df_list[i-1] = df_list[i-1].round(decimals=3)"
   ]
  },
  {
   "cell_type": "code",
   "execution_count": 89,
   "id": "ee04c417",
   "metadata": {},
   "outputs": [],
   "source": [
    "file_name = 'designlab_yaw#{}.csv'\n",
    "df_list_yaw = []\n",
    "for i in range(1, 3):\n",
    "    df_list_yaw.append(pd.read_csv(file_name.format(i),skiprows=3))\n",
    "    df_list_yaw[i-1] = df_list_yaw[i-1].drop(labels=0,axis=0)\n",
    "    df_list_yaw[i-1].columns = ['Data Point', 'Corr Factor', 'Length Scale[in]', 'AmbPress[psia]', 'AmbTemp[R]',\n",
    "       'Density[slug/ft3]', 'Viscosity[slug/ft s]', 'Motor Speed[RPM]', 'Angle of Attack[deg]',\n",
    "       'Corrected q', 'Avg Velocity[ft/s]', 'Reynolds number', 'Axial Force[Lbf]',\n",
    "       'Normal Force[Lbf]', 'Pitching Mom[in-Lbf]']\n",
    "    df_list_yaw[i-1] = df_list_yaw[i-1].round(decimals=3)"
   ]
  },
  {
   "cell_type": "code",
   "execution_count": 91,
   "id": "bc1a04f4",
   "metadata": {},
   "outputs": [],
   "source": [
    "file_name = 'upsidedown_#{}.csv'\n",
    "df_upsideDown = []\n",
    "for i in range(1, 3):\n",
    "    df_upsideDown.append(pd.read_csv(file_name.format(i),skiprows=3))\n",
    "    df_upsideDown[i-1] = df_upsideDown[i-1].drop(labels=0,axis=0)\n",
    "    df_upsideDown[i-1].columns = ['Data Point', 'Corr Factor', 'Length Scale[in]', 'AmbPress[psia]', 'AmbTemp[R]',\n",
    "       'Density[slug/ft3]', 'Viscosity[slug/ft s]', 'Motor Speed[RPM]', 'Angle of Attack[deg]',\n",
    "       'Corrected q', 'Avg Velocity[ft/s]', 'Reynolds number', 'Axial Force[Lbf]',\n",
    "       'Normal Force[Lbf]', 'Pitching Mom[in-Lbf]']\n",
    "    df_upsideDown[i-1] = df_list_yaw[i-1].round(decimals=3)"
   ]
  },
  {
   "cell_type": "code",
   "execution_count": null,
   "id": "c4739263",
   "metadata": {},
   "outputs": [],
   "source": []
  },
  {
   "cell_type": "code",
   "execution_count": null,
   "id": "86c754be",
   "metadata": {},
   "outputs": [],
   "source": []
  },
  {
   "cell_type": "code",
   "execution_count": null,
   "id": "ef46667c",
   "metadata": {},
   "outputs": [],
   "source": []
  }
 ],
 "metadata": {
  "kernelspec": {
   "display_name": "Python 3 (ipykernel)",
   "language": "python",
   "name": "python3"
  },
  "language_info": {
   "codemirror_mode": {
    "name": "ipython",
    "version": 3
   },
   "file_extension": ".py",
   "mimetype": "text/x-python",
   "name": "python",
   "nbconvert_exporter": "python",
   "pygments_lexer": "ipython3",
   "version": "3.7.6"
  }
 },
 "nbformat": 4,
 "nbformat_minor": 5
}
