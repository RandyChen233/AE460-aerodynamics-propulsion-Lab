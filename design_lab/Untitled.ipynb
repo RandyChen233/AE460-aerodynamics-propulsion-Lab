{
 "cells": [
  {
   "cell_type": "markdown",
   "id": "3fdf4d02",
   "metadata": {},
   "source": [
    "### Experiment 1"
   ]
  },
  {
   "cell_type": "code",
   "execution_count": 61,
   "id": "0c7a12b2",
   "metadata": {},
   "outputs": [],
   "source": [
    "import pandas as pd\n",
    "import numpy as np\n",
    "import matplotlib.pyplot as plt\n",
    "import math"
   ]
  },
  {
   "cell_type": "code",
   "execution_count": 114,
   "id": "37003fa0",
   "metadata": {},
   "outputs": [],
   "source": [
    "A = 0.3229173 #ft^2"
   ]
  },
  {
   "cell_type": "markdown",
   "id": "ecd4bc76",
   "metadata": {},
   "source": [
    "#### $R_e$ = 50000"
   ]
  },
  {
   "cell_type": "code",
   "execution_count": 157,
   "id": "13152b67",
   "metadata": {},
   "outputs": [
    {
     "data": {
      "text/html": [
       "<div>\n",
       "<style scoped>\n",
       "    .dataframe tbody tr th:only-of-type {\n",
       "        vertical-align: middle;\n",
       "    }\n",
       "\n",
       "    .dataframe tbody tr th {\n",
       "        vertical-align: top;\n",
       "    }\n",
       "\n",
       "    .dataframe thead th {\n",
       "        text-align: right;\n",
       "    }\n",
       "</style>\n",
       "<table border=\"1\" class=\"dataframe\">\n",
       "  <thead>\n",
       "    <tr style=\"text-align: right;\">\n",
       "      <th></th>\n",
       "      <th>Data Point</th>\n",
       "      <th>Corr Factor</th>\n",
       "      <th>Length Scale</th>\n",
       "      <th>AmbPress</th>\n",
       "      <th>AmbTemp</th>\n",
       "      <th>Density</th>\n",
       "      <th>Viscosity</th>\n",
       "      <th>Motor Speed</th>\n",
       "      <th>Angle of Attack</th>\n",
       "      <th>Corrected q</th>\n",
       "      <th>Avg Velocity</th>\n",
       "      <th>Reynolds number</th>\n",
       "      <th>Axial Force</th>\n",
       "      <th>Normal Force</th>\n",
       "      <th>Pitching Mom</th>\n",
       "    </tr>\n",
       "  </thead>\n",
       "  <tbody>\n",
       "    <tr>\n",
       "      <th>1</th>\n",
       "      <td>1.00000000000</td>\n",
       "      <td>0.91000000000</td>\n",
       "      <td>2.00000000000</td>\n",
       "      <td>14.35631450000</td>\n",
       "      <td>532.17000000000</td>\n",
       "      <td>0.00226379858</td>\n",
       "      <td>0.00000038123</td>\n",
       "      <td>0.00000000000</td>\n",
       "      <td>-5.97548794456</td>\n",
       "      <td>0.02002845612</td>\n",
       "      <td>50.47787857056</td>\n",
       "      <td>49957.42187500000</td>\n",
       "      <td>-0.02944010447</td>\n",
       "      <td>-0.34036028215</td>\n",
       "      <td>-1.59475222935</td>\n",
       "    </tr>\n",
       "    <tr>\n",
       "      <th>2</th>\n",
       "      <td>2.00000000000</td>\n",
       "      <td>0.91000000000</td>\n",
       "      <td>2.00000000000</td>\n",
       "      <td>14.35631450000</td>\n",
       "      <td>532.17000000000</td>\n",
       "      <td>0.00226379858</td>\n",
       "      <td>0.00000038123</td>\n",
       "      <td>0.00000000000</td>\n",
       "      <td>-3.01179203182</td>\n",
       "      <td>0.02060533750</td>\n",
       "      <td>51.19967651367</td>\n",
       "      <td>50671.77734375000</td>\n",
       "      <td>-0.01735702136</td>\n",
       "      <td>-0.31021087760</td>\n",
       "      <td>-1.45284500682</td>\n",
       "    </tr>\n",
       "    <tr>\n",
       "      <th>3</th>\n",
       "      <td>3.00000000000</td>\n",
       "      <td>0.91000000000</td>\n",
       "      <td>2.00000000000</td>\n",
       "      <td>14.35631450000</td>\n",
       "      <td>532.17000000000</td>\n",
       "      <td>0.00226379858</td>\n",
       "      <td>0.00000038123</td>\n",
       "      <td>0.00000000000</td>\n",
       "      <td>-0.14146897745</td>\n",
       "      <td>0.01945642632</td>\n",
       "      <td>49.75181198120</td>\n",
       "      <td>49238.83984375000</td>\n",
       "      <td>0.00242144757</td>\n",
       "      <td>-0.21656914558</td>\n",
       "      <td>-0.98082570943</td>\n",
       "    </tr>\n",
       "    <tr>\n",
       "      <th>4</th>\n",
       "      <td>4.00000000000</td>\n",
       "      <td>0.91000000000</td>\n",
       "      <td>2.00000000000</td>\n",
       "      <td>14.35631450000</td>\n",
       "      <td>532.17000000000</td>\n",
       "      <td>0.00226379858</td>\n",
       "      <td>0.00000038123</td>\n",
       "      <td>0.00000000000</td>\n",
       "      <td>3.01308366886</td>\n",
       "      <td>0.01996962487</td>\n",
       "      <td>50.40368652344</td>\n",
       "      <td>49883.99218750000</td>\n",
       "      <td>0.02356630060</td>\n",
       "      <td>-0.12396970556</td>\n",
       "      <td>-0.50579455882</td>\n",
       "    </tr>\n",
       "    <tr>\n",
       "      <th>5</th>\n",
       "      <td>5.00000000000</td>\n",
       "      <td>0.91000000000</td>\n",
       "      <td>2.00000000000</td>\n",
       "      <td>14.35631450000</td>\n",
       "      <td>532.17000000000</td>\n",
       "      <td>0.00226379858</td>\n",
       "      <td>0.00000038123</td>\n",
       "      <td>0.00000000000</td>\n",
       "      <td>6.40145039679</td>\n",
       "      <td>0.01993330289</td>\n",
       "      <td>50.35782623291</td>\n",
       "      <td>49838.60546875000</td>\n",
       "      <td>0.05891115967</td>\n",
       "      <td>-0.11146803184</td>\n",
       "      <td>-0.47964414410</td>\n",
       "    </tr>\n",
       "    <tr>\n",
       "      <th>6</th>\n",
       "      <td>6.00000000000</td>\n",
       "      <td>0.91000000000</td>\n",
       "      <td>2.00000000000</td>\n",
       "      <td>14.35631450000</td>\n",
       "      <td>532.17000000000</td>\n",
       "      <td>0.00226379858</td>\n",
       "      <td>0.00000038123</td>\n",
       "      <td>0.00000000000</td>\n",
       "      <td>9.82621906757</td>\n",
       "      <td>0.01965442266</td>\n",
       "      <td>50.00431823730</td>\n",
       "      <td>49488.74218750000</td>\n",
       "      <td>0.09268924987</td>\n",
       "      <td>-0.08700815525</td>\n",
       "      <td>-0.37710888393</td>\n",
       "    </tr>\n",
       "    <tr>\n",
       "      <th>7</th>\n",
       "      <td>7.00000000000</td>\n",
       "      <td>0.91000000000</td>\n",
       "      <td>2.00000000000</td>\n",
       "      <td>14.35631450000</td>\n",
       "      <td>532.17000000000</td>\n",
       "      <td>0.00226379858</td>\n",
       "      <td>0.00000038123</td>\n",
       "      <td>0.00000000000</td>\n",
       "      <td>12.96900809480</td>\n",
       "      <td>0.01986868088</td>\n",
       "      <td>50.27613449097</td>\n",
       "      <td>49757.75781250000</td>\n",
       "      <td>0.12727933723</td>\n",
       "      <td>-0.04551827616</td>\n",
       "      <td>-0.20027530229</td>\n",
       "    </tr>\n",
       "    <tr>\n",
       "      <th>8</th>\n",
       "      <td>8.00000000000</td>\n",
       "      <td>0.91000000000</td>\n",
       "      <td>2.00000000000</td>\n",
       "      <td>14.35631450000</td>\n",
       "      <td>532.17000000000</td>\n",
       "      <td>0.00226379858</td>\n",
       "      <td>0.00000038123</td>\n",
       "      <td>0.00000000000</td>\n",
       "      <td>15.94802310062</td>\n",
       "      <td>0.01979789971</td>\n",
       "      <td>50.18650054932</td>\n",
       "      <td>49669.04687500000</td>\n",
       "      <td>0.15306381845</td>\n",
       "      <td>-0.00930372310</td>\n",
       "      <td>-0.04060579207</td>\n",
       "    </tr>\n",
       "    <tr>\n",
       "      <th>9</th>\n",
       "      <td>9.00000000000</td>\n",
       "      <td>0.91000000000</td>\n",
       "      <td>2.00000000000</td>\n",
       "      <td>14.35631450000</td>\n",
       "      <td>532.17000000000</td>\n",
       "      <td>0.00226379858</td>\n",
       "      <td>0.00000038123</td>\n",
       "      <td>0.00000000000</td>\n",
       "      <td>19.77854635379</td>\n",
       "      <td>0.01935360915</td>\n",
       "      <td>49.62017822266</td>\n",
       "      <td>49108.56250000000</td>\n",
       "      <td>0.18410292230</td>\n",
       "      <td>0.03572708519</td>\n",
       "      <td>0.15266808147</td>\n",
       "    </tr>\n",
       "    <tr>\n",
       "      <th>10</th>\n",
       "      <td>10.00000000000</td>\n",
       "      <td>0.91000000000</td>\n",
       "      <td>2.00000000000</td>\n",
       "      <td>14.35631450000</td>\n",
       "      <td>532.17000000000</td>\n",
       "      <td>0.00226379858</td>\n",
       "      <td>0.00000038123</td>\n",
       "      <td>0.00000000000</td>\n",
       "      <td>22.99345872678</td>\n",
       "      <td>0.01945335452</td>\n",
       "      <td>49.74788284302</td>\n",
       "      <td>49234.95312500000</td>\n",
       "      <td>0.21041047282</td>\n",
       "      <td>0.07500824761</td>\n",
       "      <td>0.32602720355</td>\n",
       "    </tr>\n",
       "    <tr>\n",
       "      <th>11</th>\n",
       "      <td>11.00000000000</td>\n",
       "      <td>0.91000000000</td>\n",
       "      <td>2.00000000000</td>\n",
       "      <td>14.35631450000</td>\n",
       "      <td>532.17000000000</td>\n",
       "      <td>0.00226379858</td>\n",
       "      <td>0.00000038123</td>\n",
       "      <td>0.00000000000</td>\n",
       "      <td>25.86515674961</td>\n",
       "      <td>0.01962349190</td>\n",
       "      <td>49.96495437622</td>\n",
       "      <td>49449.78515625000</td>\n",
       "      <td>0.23002549012</td>\n",
       "      <td>0.09493924016</td>\n",
       "      <td>0.41967108766</td>\n",
       "    </tr>\n",
       "  </tbody>\n",
       "</table>\n",
       "</div>"
      ],
      "text/plain": [
       "        Data Point    Corr Factor   Length Scale        AmbPress  \\\n",
       "1    1.00000000000  0.91000000000  2.00000000000  14.35631450000   \n",
       "2    2.00000000000  0.91000000000  2.00000000000  14.35631450000   \n",
       "3    3.00000000000  0.91000000000  2.00000000000  14.35631450000   \n",
       "4    4.00000000000  0.91000000000  2.00000000000  14.35631450000   \n",
       "5    5.00000000000  0.91000000000  2.00000000000  14.35631450000   \n",
       "6    6.00000000000  0.91000000000  2.00000000000  14.35631450000   \n",
       "7    7.00000000000  0.91000000000  2.00000000000  14.35631450000   \n",
       "8    8.00000000000  0.91000000000  2.00000000000  14.35631450000   \n",
       "9    9.00000000000  0.91000000000  2.00000000000  14.35631450000   \n",
       "10  10.00000000000  0.91000000000  2.00000000000  14.35631450000   \n",
       "11  11.00000000000  0.91000000000  2.00000000000  14.35631450000   \n",
       "\n",
       "            AmbTemp        Density      Viscosity    Motor Speed  \\\n",
       "1   532.17000000000  0.00226379858  0.00000038123  0.00000000000   \n",
       "2   532.17000000000  0.00226379858  0.00000038123  0.00000000000   \n",
       "3   532.17000000000  0.00226379858  0.00000038123  0.00000000000   \n",
       "4   532.17000000000  0.00226379858  0.00000038123  0.00000000000   \n",
       "5   532.17000000000  0.00226379858  0.00000038123  0.00000000000   \n",
       "6   532.17000000000  0.00226379858  0.00000038123  0.00000000000   \n",
       "7   532.17000000000  0.00226379858  0.00000038123  0.00000000000   \n",
       "8   532.17000000000  0.00226379858  0.00000038123  0.00000000000   \n",
       "9   532.17000000000  0.00226379858  0.00000038123  0.00000000000   \n",
       "10  532.17000000000  0.00226379858  0.00000038123  0.00000000000   \n",
       "11  532.17000000000  0.00226379858  0.00000038123  0.00000000000   \n",
       "\n",
       "    Angle of Attack    Corrected q    Avg Velocity    Reynolds number  \\\n",
       "1    -5.97548794456  0.02002845612  50.47787857056  49957.42187500000   \n",
       "2    -3.01179203182  0.02060533750  51.19967651367  50671.77734375000   \n",
       "3    -0.14146897745  0.01945642632  49.75181198120  49238.83984375000   \n",
       "4     3.01308366886  0.01996962487  50.40368652344  49883.99218750000   \n",
       "5     6.40145039679  0.01993330289  50.35782623291  49838.60546875000   \n",
       "6     9.82621906757  0.01965442266  50.00431823730  49488.74218750000   \n",
       "7    12.96900809480  0.01986868088  50.27613449097  49757.75781250000   \n",
       "8    15.94802310062  0.01979789971  50.18650054932  49669.04687500000   \n",
       "9    19.77854635379  0.01935360915  49.62017822266  49108.56250000000   \n",
       "10   22.99345872678  0.01945335452  49.74788284302  49234.95312500000   \n",
       "11   25.86515674961  0.01962349190  49.96495437622  49449.78515625000   \n",
       "\n",
       "       Axial Force    Normal Force    Pitching Mom  \n",
       "1   -0.02944010447  -0.34036028215  -1.59475222935  \n",
       "2   -0.01735702136  -0.31021087760  -1.45284500682  \n",
       "3    0.00242144757  -0.21656914558  -0.98082570943  \n",
       "4    0.02356630060  -0.12396970556  -0.50579455882  \n",
       "5    0.05891115967  -0.11146803184  -0.47964414410  \n",
       "6    0.09268924987  -0.08700815525  -0.37710888393  \n",
       "7    0.12727933723  -0.04551827616  -0.20027530229  \n",
       "8    0.15306381845  -0.00930372310  -0.04060579207  \n",
       "9    0.18410292230   0.03572708519   0.15266808147  \n",
       "10   0.21041047282   0.07500824761   0.32602720355  \n",
       "11   0.23002549012   0.09493924016   0.41967108766  "
      ]
     },
     "execution_count": 157,
     "metadata": {},
     "output_type": "execute_result"
    }
   ],
   "source": [
    "df5 = pd.read_csv('Re_50000',delimiter = ',',skiprows=1)\n",
    "df5 = df5.iloc[1: , :]\n",
    "df5"
   ]
  },
  {
   "cell_type": "code",
   "execution_count": 158,
   "id": "8cd40ffd",
   "metadata": {},
   "outputs": [
    {
     "data": {
      "text/plain": [
       "Index(['Data Point', ' Corr Factor', ' Length Scale', ' AmbPress', ' AmbTemp',\n",
       "       ' Density', ' Viscosity', ' Motor Speed', ' Angle of Attack',\n",
       "       ' Corrected q', ' Avg Velocity', ' Reynolds number', ' Axial Force',\n",
       "       'Normal Force', ' Pitching Mom'],\n",
       "      dtype='object')"
      ]
     },
     "execution_count": 158,
     "metadata": {},
     "output_type": "execute_result"
    }
   ],
   "source": [
    "df5.columns"
   ]
  },
  {
   "cell_type": "code",
   "execution_count": 159,
   "id": "fc15de40",
   "metadata": {},
   "outputs": [],
   "source": [
    "N = df5['Normal Force'].astype(float)\n",
    "A = df5[' Axial Force'].astype(float)\n",
    "alpha = df5[' Angle of Attack'].astype(float)\n",
    "alphai = [math.radians(i) for i in alpha]\n",
    "L = N*np.cos(alphai)-A*np.sin(alphai)\n",
    "D = N*np.sin(alphai)+A*np.cos(alphai)"
   ]
  },
  {
   "cell_type": "code",
   "execution_count": 160,
   "id": "c6c5393a",
   "metadata": {},
   "outputs": [
    {
     "data": {
      "text/plain": [
       "[<matplotlib.lines.Line2D at 0xe21b5e0>]"
      ]
     },
     "execution_count": 160,
     "metadata": {},
     "output_type": "execute_result"
    },
    {
     "data": {
      "image/png": "[encoded data removed]",
      "text/plain": [
       "<Figure size 432x288 with 1 Axes>"
      ]
     },
     "metadata": {
      "needs_background": "light"
     },
     "output_type": "display_data"
    }
   ],
   "source": [
    "plt.figure\n",
    "plt.title('Lift vs $\\\\alpha$ at $R_e$=50000')\n",
    "plt.scatter(alpha,L)\n",
    "plt.plot(alpha,L,label='Lift')"
   ]
  },
  {
   "cell_type": "code",
   "execution_count": 161,
   "id": "4acf5f5b",
   "metadata": {},
   "outputs": [
    {
     "data": {
      "text/plain": [
       "[<matplotlib.lines.Line2D at 0xf8e1970>]"
      ]
     },
     "execution_count": 161,
     "metadata": {},
     "output_type": "execute_result"
    },
    {
     "data": {
      "image/png": "[encoded data removed]",
      "text/plain": [
       "<Figure size 432x288 with 1 Axes>"
      ]
     },
     "metadata": {
      "needs_background": "light"
     },
     "output_type": "display_data"
    }
   ],
   "source": [
    "plt.figure\n",
    "plt.title('Drag vs $\\\\alpha$ at $R_e$=50000')\n",
    "plt.scatter(alpha,D)\n",
    "plt.plot(alpha,D,label='Drag')"
   ]
  },
  {
   "cell_type": "code",
   "execution_count": 162,
   "id": "e1654f3e",
   "metadata": {},
   "outputs": [],
   "source": [
    "q = df5[' Corrected q'].astype(float)*144.0\n",
    "Cl = L/(q*A)"
   ]
  },
  {
   "cell_type": "code",
   "execution_count": 156,
   "id": "b3397dc9",
   "metadata": {},
   "outputs": [
    {
     "data": {
      "text/plain": [
       "[<matplotlib.lines.Line2D at 0xe1ede08>]"
      ]
     },
     "execution_count": 156,
     "metadata": {},
     "output_type": "execute_result"
    },
    {
     "data": {
      "image/png": "[encoded data removed]",
      "text/plain": [
       "<Figure size 432x288 with 1 Axes>"
      ]
     },
     "metadata": {
      "needs_background": "light"
     },
     "output_type": "display_data"
    }
   ],
   "source": [
    "plt.figure\n",
    "#plt.title('Drag vs $\\\\alpha$ at $R_e$=50000')\n",
    "#plt.scatter(alpha,Cl)\n",
    "plt.plot(alpha,Cl,label='Drag')"
   ]
  },
  {
   "cell_type": "code",
   "execution_count": null,
   "id": "25319aa7",
   "metadata": {},
   "outputs": [],
   "source": []
  },
  {
   "cell_type": "code",
   "execution_count": null,
   "id": "3fd4c488",
   "metadata": {},
   "outputs": [],
   "source": []
  }
 ],
 "metadata": {
  "kernelspec": {
   "display_name": "Python 3 (ipykernel)",
   "language": "python",
   "name": "python3"
  },
  "language_info": {
   "codemirror_mode": {
    "name": "ipython",
    "version": 3
   },
   "file_extension": ".py",
   "mimetype": "text/x-python",
   "name": "python",
   "nbconvert_exporter": "python",
   "pygments_lexer": "ipython3",
   "version": "3.7.6"
  }
 },
 "nbformat": 4,
 "nbformat_minor": 5
}
