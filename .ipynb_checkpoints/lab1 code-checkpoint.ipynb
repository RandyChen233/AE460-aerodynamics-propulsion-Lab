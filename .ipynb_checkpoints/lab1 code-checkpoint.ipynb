{
 "cells": [
  {
   "cell_type": "code",
   "execution_count": 2,
   "metadata": {},
   "outputs": [],
   "source": [
    "import numpy as np\n",
    "import matplotlib.pyplot as plt\n",
    "import pandas as pd\n",
    "import seaborn as sns"
   ]
  },
  {
   "cell_type": "markdown",
   "metadata": {},
   "source": [
    "### Question 1"
   ]
  },
  {
   "cell_type": "markdown",
   "metadata": {},
   "source": [
    " #### note: some parts of the code below involve unit conversions from imperial units to SI units...the reason I do that is Dr.Woodard's lecture notes use only SI units but LabView records data in imperial units, which is quite annoyuing"
   ]
  },
  {
   "cell_type": "code",
   "execution_count": 3,
   "metadata": {},
   "outputs": [],
   "source": [
    "df = pd.read_csv('lab1_data',delimiter = ',',skiprows=1)"
   ]
  },
  {
   "cell_type": "code",
   "execution_count": 4,
   "metadata": {},
   "outputs": [
    {
     "data": {
      "text/html": [
       "<div>\n",
       "<style scoped>\n",
       "    .dataframe tbody tr th:only-of-type {\n",
       "        vertical-align: middle;\n",
       "    }\n",
       "\n",
       "    .dataframe tbody tr th {\n",
       "        vertical-align: top;\n",
       "    }\n",
       "\n",
       "    .dataframe thead th {\n",
       "        text-align: right;\n",
       "    }\n",
       "</style>\n",
       "<table border=\"1\" class=\"dataframe\">\n",
       "  <thead>\n",
       "    <tr style=\"text-align: right;\">\n",
       "      <th></th>\n",
       "      <th>Data Point #</th>\n",
       "      <th>Motor Speed [RPM]</th>\n",
       "      <th>Manometer delta P [dpsi]</th>\n",
       "      <th>Ambient Temp.[R]</th>\n",
       "      <th>Viscosity [slug/ft s]</th>\n",
       "      <th>Ambient Press. [psia]</th>\n",
       "      <th>Omega Transmitter delta P [dpsi]</th>\n",
       "      <th>RakeT1 [psid]</th>\n",
       "      <th>RakeT2 [psid]</th>\n",
       "      <th>RakeT3 [psid]</th>\n",
       "      <th>...</th>\n",
       "      <th>RakeT5 [psid]</th>\n",
       "      <th>RakeT6 [psid]</th>\n",
       "      <th>RakeT7 [psid]</th>\n",
       "      <th>RakeT8 [psid]</th>\n",
       "      <th>RakeT9 [psid]</th>\n",
       "      <th>RakeS1 [psid]</th>\n",
       "      <th>RakeS2 [psid]</th>\n",
       "      <th>RakeS3 [psid]</th>\n",
       "      <th>RakeS4 [psid]</th>\n",
       "      <th>RakeS5 [psid]</th>\n",
       "    </tr>\n",
       "  </thead>\n",
       "  <tbody>\n",
       "    <tr>\n",
       "      <th>0</th>\n",
       "      <td>1.0</td>\n",
       "      <td>400.0</td>\n",
       "      <td>0.005780</td>\n",
       "      <td>540.27</td>\n",
       "      <td>3.856930e-07</td>\n",
       "      <td>14.22862</td>\n",
       "      <td>0.005581</td>\n",
       "      <td>0.004678</td>\n",
       "      <td>0.004670</td>\n",
       "      <td>0.004730</td>\n",
       "      <td>...</td>\n",
       "      <td>0.004747</td>\n",
       "      <td>0.004824</td>\n",
       "      <td>0.004778</td>\n",
       "      <td>0.004714</td>\n",
       "      <td>0.004683</td>\n",
       "      <td>0.000079</td>\n",
       "      <td>0.000135</td>\n",
       "      <td>0.000046</td>\n",
       "      <td>0.000050</td>\n",
       "      <td>0.000007</td>\n",
       "    </tr>\n",
       "    <tr>\n",
       "      <th>1</th>\n",
       "      <td>2.0</td>\n",
       "      <td>500.0</td>\n",
       "      <td>0.008671</td>\n",
       "      <td>540.27</td>\n",
       "      <td>3.856930e-07</td>\n",
       "      <td>14.22862</td>\n",
       "      <td>0.008935</td>\n",
       "      <td>0.007642</td>\n",
       "      <td>0.007608</td>\n",
       "      <td>0.007689</td>\n",
       "      <td>...</td>\n",
       "      <td>0.007712</td>\n",
       "      <td>0.007830</td>\n",
       "      <td>0.007671</td>\n",
       "      <td>0.007596</td>\n",
       "      <td>0.007516</td>\n",
       "      <td>0.000131</td>\n",
       "      <td>0.000209</td>\n",
       "      <td>0.000063</td>\n",
       "      <td>0.000091</td>\n",
       "      <td>0.000068</td>\n",
       "    </tr>\n",
       "    <tr>\n",
       "      <th>2</th>\n",
       "      <td>3.0</td>\n",
       "      <td>600.0</td>\n",
       "      <td>0.013006</td>\n",
       "      <td>540.27</td>\n",
       "      <td>3.856930e-07</td>\n",
       "      <td>14.22862</td>\n",
       "      <td>0.013304</td>\n",
       "      <td>0.011529</td>\n",
       "      <td>0.011420</td>\n",
       "      <td>0.011549</td>\n",
       "      <td>...</td>\n",
       "      <td>0.011612</td>\n",
       "      <td>0.011724</td>\n",
       "      <td>0.011529</td>\n",
       "      <td>0.011484</td>\n",
       "      <td>0.011376</td>\n",
       "      <td>0.000142</td>\n",
       "      <td>0.000235</td>\n",
       "      <td>0.000072</td>\n",
       "      <td>0.000181</td>\n",
       "      <td>0.000030</td>\n",
       "    </tr>\n",
       "    <tr>\n",
       "      <th>3</th>\n",
       "      <td>4.0</td>\n",
       "      <td>700.0</td>\n",
       "      <td>0.018064</td>\n",
       "      <td>540.27</td>\n",
       "      <td>3.856930e-07</td>\n",
       "      <td>14.22862</td>\n",
       "      <td>0.018328</td>\n",
       "      <td>0.016409</td>\n",
       "      <td>0.016146</td>\n",
       "      <td>0.016332</td>\n",
       "      <td>...</td>\n",
       "      <td>0.016460</td>\n",
       "      <td>0.016625</td>\n",
       "      <td>0.016314</td>\n",
       "      <td>0.016307</td>\n",
       "      <td>0.016180</td>\n",
       "      <td>0.000249</td>\n",
       "      <td>0.000370</td>\n",
       "      <td>0.000129</td>\n",
       "      <td>0.000212</td>\n",
       "      <td>0.000097</td>\n",
       "    </tr>\n",
       "    <tr>\n",
       "      <th>4</th>\n",
       "      <td>5.0</td>\n",
       "      <td>800.0</td>\n",
       "      <td>0.023844</td>\n",
       "      <td>540.27</td>\n",
       "      <td>3.856930e-07</td>\n",
       "      <td>14.22862</td>\n",
       "      <td>0.023865</td>\n",
       "      <td>0.021370</td>\n",
       "      <td>0.021158</td>\n",
       "      <td>0.021298</td>\n",
       "      <td>...</td>\n",
       "      <td>0.021474</td>\n",
       "      <td>0.021649</td>\n",
       "      <td>0.021264</td>\n",
       "      <td>0.021263</td>\n",
       "      <td>0.021105</td>\n",
       "      <td>0.000304</td>\n",
       "      <td>0.000417</td>\n",
       "      <td>0.000153</td>\n",
       "      <td>0.000225</td>\n",
       "      <td>0.000106</td>\n",
       "    </tr>\n",
       "  </tbody>\n",
       "</table>\n",
       "<p>5 rows × 21 columns</p>\n",
       "</div>"
      ],
      "text/plain": [
       "   Data Point #   Motor Speed [RPM]   Manometer delta P [dpsi]  \\\n",
       "0           1.0               400.0                   0.005780   \n",
       "1           2.0               500.0                   0.008671   \n",
       "2           3.0               600.0                   0.013006   \n",
       "3           4.0               700.0                   0.018064   \n",
       "4           5.0               800.0                   0.023844   \n",
       "\n",
       "    Ambient Temp.[R]   Viscosity [slug/ft s]   Ambient Press. [psia]  \\\n",
       "0             540.27            3.856930e-07                14.22862   \n",
       "1             540.27            3.856930e-07                14.22862   \n",
       "2             540.27            3.856930e-07                14.22862   \n",
       "3             540.27            3.856930e-07                14.22862   \n",
       "4             540.27            3.856930e-07                14.22862   \n",
       "\n",
       "    Omega Transmitter delta P [dpsi]   RakeT1 [psid]  RakeT2 [psid]  \\\n",
       "0                           0.005581        0.004678       0.004670   \n",
       "1                           0.008935        0.007642       0.007608   \n",
       "2                           0.013304        0.011529       0.011420   \n",
       "3                           0.018328        0.016409       0.016146   \n",
       "4                           0.023865        0.021370       0.021158   \n",
       "\n",
       "   RakeT3 [psid]  ...  RakeT5 [psid]  RakeT6 [psid]  RakeT7 [psid]  \\\n",
       "0       0.004730  ...       0.004747       0.004824       0.004778   \n",
       "1       0.007689  ...       0.007712       0.007830       0.007671   \n",
       "2       0.011549  ...       0.011612       0.011724       0.011529   \n",
       "3       0.016332  ...       0.016460       0.016625       0.016314   \n",
       "4       0.021298  ...       0.021474       0.021649       0.021264   \n",
       "\n",
       "   RakeT8 [psid]  RakeT9 [psid]  RakeS1 [psid]  RakeS2 [psid]  RakeS3 [psid]  \\\n",
       "0       0.004714       0.004683       0.000079       0.000135       0.000046   \n",
       "1       0.007596       0.007516       0.000131       0.000209       0.000063   \n",
       "2       0.011484       0.011376       0.000142       0.000235       0.000072   \n",
       "3       0.016307       0.016180       0.000249       0.000370       0.000129   \n",
       "4       0.021263       0.021105       0.000304       0.000417       0.000153   \n",
       "\n",
       "   RakeS4 [psid]  RakeS5 [psid]  \n",
       "0       0.000050       0.000007  \n",
       "1       0.000091       0.000068  \n",
       "2       0.000181       0.000030  \n",
       "3       0.000212       0.000097  \n",
       "4       0.000225       0.000106  \n",
       "\n",
       "[5 rows x 21 columns]"
      ]
     },
     "execution_count": 4,
     "metadata": {},
     "output_type": "execute_result"
    }
   ],
   "source": [
    "df.head()"
   ]
  },
  {
   "cell_type": "code",
   "execution_count": 5,
   "metadata": {},
   "outputs": [
    {
     "data": {
      "text/plain": [
       "Index(['Data Point #', ' Motor Speed [RPM]', ' Manometer delta P [dpsi]',\n",
       "       ' Ambient Temp.[R]', ' Viscosity [slug/ft s]', ' Ambient Press. [psia]',\n",
       "       ' Omega Transmitter delta P [dpsi]', ' RakeT1 [psid]', 'RakeT2 [psid]',\n",
       "       'RakeT3 [psid]', 'RakeT4 [psid]', 'RakeT5 [psid]', 'RakeT6 [psid]',\n",
       "       'RakeT7 [psid]', 'RakeT8 [psid]', 'RakeT9 [psid]', 'RakeS1 [psid]',\n",
       "       'RakeS2 [psid]', 'RakeS3 [psid]', 'RakeS4 [psid]', 'RakeS5 [psid]'],\n",
       "      dtype='object')"
      ]
     },
     "execution_count": 5,
     "metadata": {},
     "output_type": "execute_result"
    }
   ],
   "source": [
    "df.columns"
   ]
  },
  {
   "cell_type": "code",
   "execution_count": 6,
   "metadata": {},
   "outputs": [],
   "source": [
    "df['avg_tot_pressure(psia)'] = (df[' RakeT1 [psid]']+df['RakeT2 [psid]']+df['RakeT3 [psid]']+df['RakeT4 [psid]']+df['RakeT5 [psid]']+\\\n",
    "            df['RakeT6 [psid]']+df['RakeT7 [psid]']+df['RakeT8 [psid]']+df['RakeT9 [psid]'])/9"
   ]
  },
  {
   "cell_type": "code",
   "execution_count": 7,
   "metadata": {},
   "outputs": [],
   "source": [
    "df['avg_stat_pressure(psia)'] = (df['RakeS1 [psid]']+df['RakeS2 [psid]']+df['RakeS3 [psid]']+df['RakeS4 [psid]']+df['RakeS5 [psid]'])/5"
   ]
  },
  {
   "cell_type": "code",
   "execution_count": 8,
   "metadata": {},
   "outputs": [],
   "source": [
    "df['q_actual(psia)'] = df['avg_tot_pressure(psia)']-df['avg_stat_pressure(psia)']\n",
    "                                        "
   ]
  },
  {
   "cell_type": "code",
   "execution_count": 9,
   "metadata": {},
   "outputs": [
    {
     "data": {
      "text/plain": [
       "0     0.004667\n",
       "1     0.007551\n",
       "2     0.011401\n",
       "3     0.016144\n",
       "4     0.021091\n",
       "5     0.026670\n",
       "6     0.034644\n",
       "7     0.041690\n",
       "8     0.048155\n",
       "9     0.057718\n",
       "10    0.067336\n",
       "Name: q_actual(psia), dtype: float64"
      ]
     },
     "execution_count": 9,
     "metadata": {},
     "output_type": "execute_result"
    }
   ],
   "source": [
    "df['q_actual(psia)']"
   ]
  },
  {
   "cell_type": "code",
   "execution_count": 10,
   "metadata": {},
   "outputs": [],
   "source": [
    "table = df[['Data Point #',' Motor Speed [RPM]','avg_tot_pressure(psia)','avg_stat_pressure(psia)','q_actual(psia)']]"
   ]
  },
  {
   "cell_type": "code",
   "execution_count": 11,
   "metadata": {},
   "outputs": [
    {
     "data": {
      "text/html": [
       "<div>\n",
       "<style scoped>\n",
       "    .dataframe tbody tr th:only-of-type {\n",
       "        vertical-align: middle;\n",
       "    }\n",
       "\n",
       "    .dataframe tbody tr th {\n",
       "        vertical-align: top;\n",
       "    }\n",
       "\n",
       "    .dataframe thead th {\n",
       "        text-align: right;\n",
       "    }\n",
       "</style>\n",
       "<table border=\"1\" class=\"dataframe\">\n",
       "  <thead>\n",
       "    <tr style=\"text-align: right;\">\n",
       "      <th></th>\n",
       "      <th>Motor Speed [RPM]</th>\n",
       "      <th>avg_tot_pressure(psia)</th>\n",
       "      <th>avg_stat_pressure(psia)</th>\n",
       "      <th>q_actual(psia)</th>\n",
       "    </tr>\n",
       "    <tr>\n",
       "      <th>Data Point #</th>\n",
       "      <th></th>\n",
       "      <th></th>\n",
       "      <th></th>\n",
       "      <th></th>\n",
       "    </tr>\n",
       "  </thead>\n",
       "  <tbody>\n",
       "    <tr>\n",
       "      <th>1.0</th>\n",
       "      <td>400.0</td>\n",
       "      <td>0.004730</td>\n",
       "      <td>0.000063</td>\n",
       "      <td>0.004667</td>\n",
       "    </tr>\n",
       "    <tr>\n",
       "      <th>2.0</th>\n",
       "      <td>500.0</td>\n",
       "      <td>0.007663</td>\n",
       "      <td>0.000112</td>\n",
       "      <td>0.007551</td>\n",
       "    </tr>\n",
       "    <tr>\n",
       "      <th>3.0</th>\n",
       "      <td>600.0</td>\n",
       "      <td>0.011533</td>\n",
       "      <td>0.000132</td>\n",
       "      <td>0.011401</td>\n",
       "    </tr>\n",
       "    <tr>\n",
       "      <th>4.0</th>\n",
       "      <td>700.0</td>\n",
       "      <td>0.016355</td>\n",
       "      <td>0.000212</td>\n",
       "      <td>0.016144</td>\n",
       "    </tr>\n",
       "    <tr>\n",
       "      <th>5.0</th>\n",
       "      <td>800.0</td>\n",
       "      <td>0.021332</td>\n",
       "      <td>0.000241</td>\n",
       "      <td>0.021091</td>\n",
       "    </tr>\n",
       "    <tr>\n",
       "      <th>6.0</th>\n",
       "      <td>900.0</td>\n",
       "      <td>0.027001</td>\n",
       "      <td>0.000331</td>\n",
       "      <td>0.026670</td>\n",
       "    </tr>\n",
       "    <tr>\n",
       "      <th>7.0</th>\n",
       "      <td>1000.0</td>\n",
       "      <td>0.034970</td>\n",
       "      <td>0.000326</td>\n",
       "      <td>0.034644</td>\n",
       "    </tr>\n",
       "    <tr>\n",
       "      <th>8.0</th>\n",
       "      <td>1100.0</td>\n",
       "      <td>0.042159</td>\n",
       "      <td>0.000468</td>\n",
       "      <td>0.041690</td>\n",
       "    </tr>\n",
       "    <tr>\n",
       "      <th>9.0</th>\n",
       "      <td>1200.0</td>\n",
       "      <td>0.048591</td>\n",
       "      <td>0.000436</td>\n",
       "      <td>0.048155</td>\n",
       "    </tr>\n",
       "    <tr>\n",
       "      <th>10.0</th>\n",
       "      <td>1300.0</td>\n",
       "      <td>0.058211</td>\n",
       "      <td>0.000494</td>\n",
       "      <td>0.057718</td>\n",
       "    </tr>\n",
       "    <tr>\n",
       "      <th>11.0</th>\n",
       "      <td>1400.0</td>\n",
       "      <td>0.067717</td>\n",
       "      <td>0.000381</td>\n",
       "      <td>0.067336</td>\n",
       "    </tr>\n",
       "  </tbody>\n",
       "</table>\n",
       "</div>"
      ],
      "text/plain": [
       "               Motor Speed [RPM]  avg_tot_pressure(psia)  \\\n",
       "Data Point #                                               \n",
       "1.0                        400.0                0.004730   \n",
       "2.0                        500.0                0.007663   \n",
       "3.0                        600.0                0.011533   \n",
       "4.0                        700.0                0.016355   \n",
       "5.0                        800.0                0.021332   \n",
       "6.0                        900.0                0.027001   \n",
       "7.0                       1000.0                0.034970   \n",
       "8.0                       1100.0                0.042159   \n",
       "9.0                       1200.0                0.048591   \n",
       "10.0                      1300.0                0.058211   \n",
       "11.0                      1400.0                0.067717   \n",
       "\n",
       "              avg_stat_pressure(psia)  q_actual(psia)  \n",
       "Data Point #                                           \n",
       "1.0                          0.000063        0.004667  \n",
       "2.0                          0.000112        0.007551  \n",
       "3.0                          0.000132        0.011401  \n",
       "4.0                          0.000212        0.016144  \n",
       "5.0                          0.000241        0.021091  \n",
       "6.0                          0.000331        0.026670  \n",
       "7.0                          0.000326        0.034644  \n",
       "8.0                          0.000468        0.041690  \n",
       "9.0                          0.000436        0.048155  \n",
       "10.0                         0.000494        0.057718  \n",
       "11.0                         0.000381        0.067336  "
      ]
     },
     "execution_count": 11,
     "metadata": {},
     "output_type": "execute_result"
    }
   ],
   "source": [
    "table.set_index('Data Point #')"
   ]
  },
  {
   "cell_type": "code",
   "execution_count": 12,
   "metadata": {},
   "outputs": [],
   "source": [
    "table.to_excel('table.xlsx')"
   ]
  },
  {
   "cell_type": "code",
   "execution_count": 13,
   "metadata": {},
   "outputs": [
    {
     "data": {
      "image/png": "[encoded data removed]",
      "text/plain": [
       "<Figure size 720x576 with 1 Axes>"
      ]
     },
     "metadata": {
      "needs_background": "light"
     },
     "output_type": "display_data"
    }
   ],
   "source": [
    "plt.figure(figsize=(10,8));\n",
    "sns.lineplot(x=' Motor Speed [RPM]',y='q_actual(psia)',data=table);\n",
    "plt.title('Actual Dynamic Pressure vs Motor Speed',fontsize=14)\n",
    "plt.xlabel('Motor Speed(RPM)',fontsize=13);\n",
    "plt.ylabel('Actual Dynamic Pressure(Psi)',fontsize=13);\n",
    "plt.savefig('q_actual vs Motorspeed')"
   ]
  },
  {
   "cell_type": "code",
   "execution_count": 14,
   "metadata": {},
   "outputs": [
    {
     "data": {
      "image/png": "[encoded data removed]",
      "text/plain": [
       "<Figure size 936x648 with 2 Axes>"
      ]
     },
     "metadata": {
      "needs_background": "light"
     },
     "output_type": "display_data"
    }
   ],
   "source": [
    "plt.figure(figsize=(13,9));\n",
    "plt.subplot(1,2,1);\n",
    "sns.lineplot(x=' Motor Speed [RPM]',y='avg_tot_pressure(psia)',data=table,color='g');\n",
    "plt.xlabel('Motor Speed(RPM)',fontsize=15);\n",
    "plt.ylabel('Average Total Pressure(psia)',fontsize=15);\n",
    "plt.title('Average Total Pressure vs. Motor Speed',fontsize=16)\n",
    "plt.subplot(1,2,2);\n",
    "sns.lineplot(x=' Motor Speed [RPM]',y='avg_stat_pressure(psia)',data=table,color='b')\n",
    "plt.xlabel('Motor Speed(RPM)',fontsize=15);\n",
    "plt.ylabel('Average Static Pressure(psia)',fontsize=15);\n",
    "plt.title('Average Static Pressure vs. Motor Speed',fontsize=16)\n",
    "\n",
    "plt.savefig('Pressure vs motor speed')"
   ]
  },
  {
   "cell_type": "markdown",
   "metadata": {},
   "source": [
    "### Question 2"
   ]
  },
  {
   "cell_type": "code",
   "execution_count": 15,
   "metadata": {},
   "outputs": [
    {
     "data": {
      "text/plain": [
       "array([14.22862])"
      ]
     },
     "execution_count": 15,
     "metadata": {},
     "output_type": "execute_result"
    }
   ],
   "source": [
    "df[' Ambient Press. [psia]'].unique()"
   ]
  },
  {
   "cell_type": "code",
   "execution_count": 16,
   "metadata": {},
   "outputs": [],
   "source": [
    "# mass-specific gas constant for air is 1717( ... ) in imperial unit!!!!\n",
    "#density is in slug/ft^3\n",
    "#pressure is to be converted to lb/ft^2 instead of psi\n",
    "\n",
    "#use ideal gas law to calculate the density:\n",
    "df['density(slug/ft^3)'] = (14.22862*144)/(1717*df[' Ambient Temp.[R]']) #UNIT CONVERSION!!!!!\n",
    "\n",
    "#use dynamic pressure relation to calculate the actual velocity\n",
    "df['actual_velocity(ft/s)'] =np.sqrt( 2*df['q_actual(psia)']*144/df['density(slug/ft^3)'] )\n",
    "#velocity is in ft/s"
   ]
  },
  {
   "cell_type": "code",
   "execution_count": 17,
   "metadata": {},
   "outputs": [],
   "source": [
    "#Reynold's number with no length scale:\n",
    "\n",
    "df['Re'] = df['density(slug/ft^3)']*df['actual_velocity(ft/s)']/df[' Viscosity [slug/ft s]']\n"
   ]
  },
  {
   "cell_type": "code",
   "execution_count": 18,
   "metadata": {},
   "outputs": [],
   "source": [
    "#Mach number: Ma = V/a\n",
    "# a = sqrt(gamma*R*T)\n",
    "df['sound_speed(ft/s)'] = np.sqrt(1.4*1717*df[' Ambient Temp.[R]'])\n",
    "\n",
    "df['Mach number'] = df['actual_velocity(ft/s)']/df['sound_speed(ft/s)']\n"
   ]
  },
  {
   "cell_type": "code",
   "execution_count": 19,
   "metadata": {},
   "outputs": [],
   "source": [
    "table2= df[['Data Point #', ' Motor Speed [RPM]','q_actual(psia)','actual_velocity(ft/s)','Re','Mach number']]"
   ]
  },
  {
   "cell_type": "code",
   "execution_count": 20,
   "metadata": {},
   "outputs": [
    {
     "data": {
      "text/html": [
       "<div>\n",
       "<style scoped>\n",
       "    .dataframe tbody tr th:only-of-type {\n",
       "        vertical-align: middle;\n",
       "    }\n",
       "\n",
       "    .dataframe tbody tr th {\n",
       "        vertical-align: top;\n",
       "    }\n",
       "\n",
       "    .dataframe thead th {\n",
       "        text-align: right;\n",
       "    }\n",
       "</style>\n",
       "<table border=\"1\" class=\"dataframe\">\n",
       "  <thead>\n",
       "    <tr style=\"text-align: right;\">\n",
       "      <th></th>\n",
       "      <th>Motor Speed [RPM]</th>\n",
       "      <th>q_actual(psia)</th>\n",
       "      <th>actual_velocity(ft/s)</th>\n",
       "      <th>Re</th>\n",
       "      <th>Mach number</th>\n",
       "    </tr>\n",
       "    <tr>\n",
       "      <th>Data Point #</th>\n",
       "      <th></th>\n",
       "      <th></th>\n",
       "      <th></th>\n",
       "      <th></th>\n",
       "      <th></th>\n",
       "    </tr>\n",
       "  </thead>\n",
       "  <tbody>\n",
       "    <tr>\n",
       "      <th>1.0</th>\n",
       "      <td>400.0</td>\n",
       "      <td>0.004667</td>\n",
       "      <td>24.667552</td>\n",
       "      <td>141263.000028</td>\n",
       "      <td>0.021646</td>\n",
       "    </tr>\n",
       "    <tr>\n",
       "      <th>2.0</th>\n",
       "      <td>500.0</td>\n",
       "      <td>0.007551</td>\n",
       "      <td>31.378698</td>\n",
       "      <td>179695.534132</td>\n",
       "      <td>0.027535</td>\n",
       "    </tr>\n",
       "    <tr>\n",
       "      <th>3.0</th>\n",
       "      <td>600.0</td>\n",
       "      <td>0.011401</td>\n",
       "      <td>38.556432</td>\n",
       "      <td>220800.070267</td>\n",
       "      <td>0.033833</td>\n",
       "    </tr>\n",
       "    <tr>\n",
       "      <th>4.0</th>\n",
       "      <td>700.0</td>\n",
       "      <td>0.016144</td>\n",
       "      <td>45.880007</td>\n",
       "      <td>262739.789090</td>\n",
       "      <td>0.040260</td>\n",
       "    </tr>\n",
       "    <tr>\n",
       "      <th>5.0</th>\n",
       "      <td>800.0</td>\n",
       "      <td>0.021091</td>\n",
       "      <td>52.441622</td>\n",
       "      <td>300316.011429</td>\n",
       "      <td>0.046017</td>\n",
       "    </tr>\n",
       "    <tr>\n",
       "      <th>6.0</th>\n",
       "      <td>900.0</td>\n",
       "      <td>0.026670</td>\n",
       "      <td>58.970703</td>\n",
       "      <td>337705.919008</td>\n",
       "      <td>0.051747</td>\n",
       "    </tr>\n",
       "    <tr>\n",
       "      <th>7.0</th>\n",
       "      <td>1000.0</td>\n",
       "      <td>0.034644</td>\n",
       "      <td>67.210885</td>\n",
       "      <td>384894.748170</td>\n",
       "      <td>0.058977</td>\n",
       "    </tr>\n",
       "    <tr>\n",
       "      <th>8.0</th>\n",
       "      <td>1100.0</td>\n",
       "      <td>0.041690</td>\n",
       "      <td>73.729729</td>\n",
       "      <td>422226.029274</td>\n",
       "      <td>0.064698</td>\n",
       "    </tr>\n",
       "    <tr>\n",
       "      <th>9.0</th>\n",
       "      <td>1200.0</td>\n",
       "      <td>0.048155</td>\n",
       "      <td>79.240379</td>\n",
       "      <td>453783.720571</td>\n",
       "      <td>0.069533</td>\n",
       "    </tr>\n",
       "    <tr>\n",
       "      <th>10.0</th>\n",
       "      <td>1300.0</td>\n",
       "      <td>0.057718</td>\n",
       "      <td>86.751762</td>\n",
       "      <td>496798.954837</td>\n",
       "      <td>0.076124</td>\n",
       "    </tr>\n",
       "    <tr>\n",
       "      <th>11.0</th>\n",
       "      <td>1400.0</td>\n",
       "      <td>0.067336</td>\n",
       "      <td>93.701867</td>\n",
       "      <td>536599.929580</td>\n",
       "      <td>0.082223</td>\n",
       "    </tr>\n",
       "  </tbody>\n",
       "</table>\n",
       "</div>"
      ],
      "text/plain": [
       "               Motor Speed [RPM]  q_actual(psia)  actual_velocity(ft/s)  \\\n",
       "Data Point #                                                              \n",
       "1.0                        400.0        0.004667              24.667552   \n",
       "2.0                        500.0        0.007551              31.378698   \n",
       "3.0                        600.0        0.011401              38.556432   \n",
       "4.0                        700.0        0.016144              45.880007   \n",
       "5.0                        800.0        0.021091              52.441622   \n",
       "6.0                        900.0        0.026670              58.970703   \n",
       "7.0                       1000.0        0.034644              67.210885   \n",
       "8.0                       1100.0        0.041690              73.729729   \n",
       "9.0                       1200.0        0.048155              79.240379   \n",
       "10.0                      1300.0        0.057718              86.751762   \n",
       "11.0                      1400.0        0.067336              93.701867   \n",
       "\n",
       "                         Re  Mach number  \n",
       "Data Point #                              \n",
       "1.0           141263.000028     0.021646  \n",
       "2.0           179695.534132     0.027535  \n",
       "3.0           220800.070267     0.033833  \n",
       "4.0           262739.789090     0.040260  \n",
       "5.0           300316.011429     0.046017  \n",
       "6.0           337705.919008     0.051747  \n",
       "7.0           384894.748170     0.058977  \n",
       "8.0           422226.029274     0.064698  \n",
       "9.0           453783.720571     0.069533  \n",
       "10.0          496798.954837     0.076124  \n",
       "11.0          536599.929580     0.082223  "
      ]
     },
     "execution_count": 20,
     "metadata": {},
     "output_type": "execute_result"
    }
   ],
   "source": [
    "table2.set_index('Data Point #')"
   ]
  },
  {
   "cell_type": "code",
   "execution_count": 21,
   "metadata": {},
   "outputs": [],
   "source": [
    "table2.to_excel('table2.xlsx')"
   ]
  },
  {
   "cell_type": "code",
   "execution_count": 22,
   "metadata": {},
   "outputs": [
    {
     "data": {
      "image/png": "[encoded data removed]",
      "text/plain": [
       "<Figure size 600x400 with 1 Axes>"
      ]
     },
     "metadata": {
      "needs_background": "light"
     },
     "output_type": "display_data"
    }
   ],
   "source": [
    "plt.figure(dpi=100)\n",
    "sns.lineplot(x=' Motor Speed [RPM]',y='q_actual(psia)',data=df,color='g');\n"
   ]
  },
  {
   "cell_type": "code",
   "execution_count": 23,
   "metadata": {},
   "outputs": [
    {
     "data": {
      "text/plain": [
       "<matplotlib.axes._subplots.AxesSubplot at 0x24242908b48>"
      ]
     },
     "execution_count": 23,
     "metadata": {},
     "output_type": "execute_result"
    },
    {
     "data": {
      "image/png": "[encoded data removed]",
      "text/plain": [
       "<Figure size 600x400 with 1 Axes>"
      ]
     },
     "metadata": {
      "needs_background": "light"
     },
     "output_type": "display_data"
    }
   ],
   "source": [
    "plt.figure(dpi=100);\n",
    "sns.lineplot(x=' Motor Speed [RPM]',y='actual_velocity(ft/s)',data=df,color='b')"
   ]
  },
  {
   "cell_type": "code",
   "execution_count": 24,
   "metadata": {},
   "outputs": [
    {
     "data": {
      "text/plain": [
       "<matplotlib.axes._subplots.AxesSubplot at 0x242429d9d08>"
      ]
     },
     "execution_count": 24,
     "metadata": {},
     "output_type": "execute_result"
    },
    {
     "data": {
      "image/png": "[encoded data removed]",
      "text/plain": [
       "<Figure size 600x400 with 1 Axes>"
      ]
     },
     "metadata": {
      "needs_background": "light"
     },
     "output_type": "display_data"
    }
   ],
   "source": [
    "plt.figure(dpi=100)\n",
    "sns.lineplot(x=' Motor Speed [RPM]',y='Re',data=df,color='r')"
   ]
  },
  {
   "cell_type": "code",
   "execution_count": 25,
   "metadata": {},
   "outputs": [
    {
     "data": {
      "text/plain": [
       "<matplotlib.axes._subplots.AxesSubplot at 0x24242c12c48>"
      ]
     },
     "execution_count": 25,
     "metadata": {},
     "output_type": "execute_result"
    },
    {
     "data": {
      "image/png": "[encoded data removed]",
      "text/plain": [
       "<Figure size 600x400 with 1 Axes>"
      ]
     },
     "metadata": {
      "needs_background": "light"
     },
     "output_type": "display_data"
    }
   ],
   "source": [
    "plt.figure(dpi=100)\n",
    "sns.lineplot(x=' Motor Speed [RPM]',y='Mach number',data=df,color='y')"
   ]
  },
  {
   "cell_type": "markdown",
   "metadata": {},
   "source": [
    "### Question 3"
   ]
  },
  {
   "cell_type": "markdown",
   "metadata": {},
   "source": [
    "#### Part a"
   ]
  },
  {
   "cell_type": "code",
   "execution_count": 26,
   "metadata": {},
   "outputs": [],
   "source": [
    "df['tot_pressure_var1'] = (df[' RakeT1 [psid]']-df['avg_tot_pressure(psia)'])/df['q_actual(psia)'] * 100 \n",
    "df['tot_pressure_var2'] = (df['RakeT2 [psid]']-df['avg_tot_pressure(psia)'])/df['q_actual(psia)'] * 100 \n",
    "df['tot_pressure_var3'] = (df['RakeT3 [psid]']-df['avg_tot_pressure(psia)'])/df['q_actual(psia)'] * 100 \n",
    "df['tot_pressure_var4'] = (df['RakeT4 [psid]']-df['avg_tot_pressure(psia)'])/df['q_actual(psia)'] * 100 \n",
    "df['tot_pressure_var5'] = (df['RakeT5 [psid]']-df['avg_tot_pressure(psia)'])/df['q_actual(psia)'] * 100 \n",
    "df['tot_pressure_var6'] = (df['RakeT6 [psid]']-df['avg_tot_pressure(psia)'])/df['q_actual(psia)'] * 100 \n",
    "df['tot_pressure_var7'] = (df['RakeT7 [psid]']-df['avg_tot_pressure(psia)'])/df['q_actual(psia)'] * 100 \n",
    "df['tot_pressure_var8'] = (df['RakeT8 [psid]']-df['avg_tot_pressure(psia)'])/df['q_actual(psia)'] * 100 \n",
    "df['tot_pressure_var9'] = (df['RakeT9 [psid]']-df['avg_tot_pressure(psia)'])/df['q_actual(psia)'] * 100 \n",
    "\n",
    "#results are in percentage"
   ]
  },
  {
   "cell_type": "code",
   "execution_count": 27,
   "metadata": {},
   "outputs": [
    {
     "data": {
      "image/png": "[encoded data removed]",
      "text/plain": [
       "<Figure size 600x400 with 1 Axes>"
      ]
     },
     "metadata": {
      "needs_background": "light"
     },
     "output_type": "display_data"
    }
   ],
   "source": [
    "plt.figure(dpi=100);\n",
    "sns.scatterplot(x=df['q_actual(psia)'],y=df['tot_pressure_var1'],label='Var1')\n",
    "sns.scatterplot(x=df['q_actual(psia)'],y=df['tot_pressure_var2'],label='Var2')\n",
    "sns.scatterplot(x=df['q_actual(psia)'],y=df['tot_pressure_var3'],label='Var3')\n",
    "sns.scatterplot(x=df['q_actual(psia)'],y=df['tot_pressure_var4'],label='Var4')\n",
    "sns.scatterplot(x=df['q_actual(psia)'],y=df['tot_pressure_var5'],label='Var5')\n",
    "sns.scatterplot(x=df['q_actual(psia)'],y=df['tot_pressure_var6'],label='Var6')\n",
    "sns.scatterplot(x=df['q_actual(psia)'],y=df['tot_pressure_var7'],label='Var7')\n",
    "sns.scatterplot(x=df['q_actual(psia)'],y=df['tot_pressure_var8'],label='Var8')\n",
    "sns.scatterplot(x=df['q_actual(psia)'],y=df['tot_pressure_var9'],label='Var9')\n",
    "plt.legend(loc='lower right', bbox_to_anchor=(1.2,0.3))\n",
    "plt.grid()\n",
    "plt.ylabel('Total Pressure Variation(%)')\n",
    "plt.xlabel('Actual Dynamic Pressure');"
   ]
  },
  {
   "cell_type": "markdown",
   "metadata": {},
   "source": [
    "#### Part b"
   ]
  },
  {
   "cell_type": "code",
   "execution_count": 28,
   "metadata": {},
   "outputs": [],
   "source": [
    "df['stat_pressure_var1'] = (df['RakeS1 [psid]']-df['avg_stat_pressure(psia)'])/df['q_actual(psia)'] * 100 \n",
    "df['stat_pressure_var2'] = (df['RakeS2 [psid]']-df['avg_stat_pressure(psia)'])/df['q_actual(psia)'] * 100 \n",
    "df['stat_pressure_var3'] = (df['RakeS3 [psid]']-df['avg_stat_pressure(psia)'])/df['q_actual(psia)'] * 100 \n",
    "df['stat_pressure_var4'] = (df['RakeS4 [psid]']-df['avg_stat_pressure(psia)'])/df['q_actual(psia)'] * 100 \n",
    "df['stat_pressure_var5'] = (df['RakeS5 [psid]']-df['avg_stat_pressure(psia)'])/df['q_actual(psia)'] * 100 \n"
   ]
  },
  {
   "cell_type": "code",
   "execution_count": 29,
   "metadata": {},
   "outputs": [
    {
     "data": {
      "image/png": "[encoded data removed]",
      "text/plain": [
       "<Figure size 600x400 with 1 Axes>"
      ]
     },
     "metadata": {
      "needs_background": "light"
     },
     "output_type": "display_data"
    }
   ],
   "source": [
    "plt.figure(dpi=100);\n",
    "sns.scatterplot(x=df['q_actual(psia)'],y=df['stat_pressure_var1'],label='Var1')\n",
    "sns.scatterplot(x=df['q_actual(psia)'],y=df['stat_pressure_var2'],label='Var2')\n",
    "sns.scatterplot(x=df['q_actual(psia)'],y=df['stat_pressure_var3'],label='Var3')\n",
    "sns.scatterplot(x=df['q_actual(psia)'],y=df['stat_pressure_var4'],label='Var4')\n",
    "sns.scatterplot(x=df['q_actual(psia)'],y=df['stat_pressure_var5'],label='Var5')\n",
    "plt.legend(loc='lower right', bbox_to_anchor=(1.2,0.3))\n",
    "plt.grid()\n",
    "\n",
    "plt.ylabel('Static Pressure Variation(%)')\n",
    "plt.xlabel('Actual Dynamic Pressure');"
   ]
  },
  {
   "cell_type": "markdown",
   "metadata": {},
   "source": [
    "### Question 4"
   ]
  },
  {
   "cell_type": "code",
   "execution_count": 30,
   "metadata": {},
   "outputs": [],
   "source": [
    "df['percent_diff_actual_Omega'] =( np.abs(df['q_actual(psia)']-df[' Omega Transmitter delta P [dpsi]'])/df[' Omega Transmitter delta P [dpsi]'])*100\n",
    "\n",
    "df['percent_diff_actual_Dwyer'] =( np.abs(df['q_actual(psia)']-df[' Manometer delta P [dpsi]'])/df[' Manometer delta P [dpsi]'])*100\n",
    "\n",
    "table4 = df[['Data Point #',' Motor Speed [RPM]','q_actual(psia)',' Omega Transmitter delta P [dpsi]',\\\n",
    "            'percent_diff_actual_Omega', ' Manometer delta P [dpsi]','percent_diff_actual_Dwyer']]"
   ]
  },
  {
   "cell_type": "code",
   "execution_count": 31,
   "metadata": {},
   "outputs": [
    {
     "data": {
      "text/html": [
       "<div>\n",
       "<style scoped>\n",
       "    .dataframe tbody tr th:only-of-type {\n",
       "        vertical-align: middle;\n",
       "    }\n",
       "\n",
       "    .dataframe tbody tr th {\n",
       "        vertical-align: top;\n",
       "    }\n",
       "\n",
       "    .dataframe thead th {\n",
       "        text-align: right;\n",
       "    }\n",
       "</style>\n",
       "<table border=\"1\" class=\"dataframe\">\n",
       "  <thead>\n",
       "    <tr style=\"text-align: right;\">\n",
       "      <th></th>\n",
       "      <th>Motor Speed [RPM]</th>\n",
       "      <th>q_actual(psia)</th>\n",
       "      <th>Omega Transmitter delta P [dpsi]</th>\n",
       "      <th>percent_diff_actual_Omega</th>\n",
       "      <th>Manometer delta P [dpsi]</th>\n",
       "      <th>percent_diff_actual_Dwyer</th>\n",
       "    </tr>\n",
       "    <tr>\n",
       "      <th>Data Point #</th>\n",
       "      <th></th>\n",
       "      <th></th>\n",
       "      <th></th>\n",
       "      <th></th>\n",
       "      <th></th>\n",
       "      <th></th>\n",
       "    </tr>\n",
       "  </thead>\n",
       "  <tbody>\n",
       "    <tr>\n",
       "      <th>1.0</th>\n",
       "      <td>400.0</td>\n",
       "      <td>0.004667</td>\n",
       "      <td>0.005581</td>\n",
       "      <td>16.384748</td>\n",
       "      <td>0.005780</td>\n",
       "      <td>19.268866</td>\n",
       "    </tr>\n",
       "    <tr>\n",
       "      <th>2.0</th>\n",
       "      <td>500.0</td>\n",
       "      <td>0.007551</td>\n",
       "      <td>0.008935</td>\n",
       "      <td>15.483748</td>\n",
       "      <td>0.008671</td>\n",
       "      <td>12.910157</td>\n",
       "    </tr>\n",
       "    <tr>\n",
       "      <th>3.0</th>\n",
       "      <td>600.0</td>\n",
       "      <td>0.011401</td>\n",
       "      <td>0.013304</td>\n",
       "      <td>14.301762</td>\n",
       "      <td>0.013006</td>\n",
       "      <td>12.340250</td>\n",
       "    </tr>\n",
       "    <tr>\n",
       "      <th>4.0</th>\n",
       "      <td>700.0</td>\n",
       "      <td>0.016144</td>\n",
       "      <td>0.018328</td>\n",
       "      <td>11.917539</td>\n",
       "      <td>0.018064</td>\n",
       "      <td>10.631211</td>\n",
       "    </tr>\n",
       "    <tr>\n",
       "      <th>5.0</th>\n",
       "      <td>800.0</td>\n",
       "      <td>0.021091</td>\n",
       "      <td>0.023865</td>\n",
       "      <td>11.621834</td>\n",
       "      <td>0.023844</td>\n",
       "      <td>11.546037</td>\n",
       "    </tr>\n",
       "    <tr>\n",
       "      <th>6.0</th>\n",
       "      <td>900.0</td>\n",
       "      <td>0.026670</td>\n",
       "      <td>0.030136</td>\n",
       "      <td>11.500709</td>\n",
       "      <td>0.031070</td>\n",
       "      <td>14.161300</td>\n",
       "    </tr>\n",
       "    <tr>\n",
       "      <th>7.0</th>\n",
       "      <td>1000.0</td>\n",
       "      <td>0.034644</td>\n",
       "      <td>0.039013</td>\n",
       "      <td>11.198091</td>\n",
       "      <td>0.039018</td>\n",
       "      <td>11.209926</td>\n",
       "    </tr>\n",
       "    <tr>\n",
       "      <th>8.0</th>\n",
       "      <td>1100.0</td>\n",
       "      <td>0.041690</td>\n",
       "      <td>0.047011</td>\n",
       "      <td>11.317397</td>\n",
       "      <td>0.046966</td>\n",
       "      <td>11.233144</td>\n",
       "    </tr>\n",
       "    <tr>\n",
       "      <th>9.0</th>\n",
       "      <td>1200.0</td>\n",
       "      <td>0.048155</td>\n",
       "      <td>0.054368</td>\n",
       "      <td>11.427340</td>\n",
       "      <td>0.054914</td>\n",
       "      <td>12.308318</td>\n",
       "    </tr>\n",
       "    <tr>\n",
       "      <th>10.0</th>\n",
       "      <td>1300.0</td>\n",
       "      <td>0.057718</td>\n",
       "      <td>0.064776</td>\n",
       "      <td>10.895999</td>\n",
       "      <td>0.064308</td>\n",
       "      <td>10.247709</td>\n",
       "    </tr>\n",
       "    <tr>\n",
       "      <th>11.0</th>\n",
       "      <td>1400.0</td>\n",
       "      <td>0.067336</td>\n",
       "      <td>0.073897</td>\n",
       "      <td>8.878811</td>\n",
       "      <td>0.074423</td>\n",
       "      <td>9.522997</td>\n",
       "    </tr>\n",
       "  </tbody>\n",
       "</table>\n",
       "</div>"
      ],
      "text/plain": [
       "               Motor Speed [RPM]  q_actual(psia)  \\\n",
       "Data Point #                                       \n",
       "1.0                        400.0        0.004667   \n",
       "2.0                        500.0        0.007551   \n",
       "3.0                        600.0        0.011401   \n",
       "4.0                        700.0        0.016144   \n",
       "5.0                        800.0        0.021091   \n",
       "6.0                        900.0        0.026670   \n",
       "7.0                       1000.0        0.034644   \n",
       "8.0                       1100.0        0.041690   \n",
       "9.0                       1200.0        0.048155   \n",
       "10.0                      1300.0        0.057718   \n",
       "11.0                      1400.0        0.067336   \n",
       "\n",
       "               Omega Transmitter delta P [dpsi]  percent_diff_actual_Omega  \\\n",
       "Data Point #                                                                 \n",
       "1.0                                    0.005581                  16.384748   \n",
       "2.0                                    0.008935                  15.483748   \n",
       "3.0                                    0.013304                  14.301762   \n",
       "4.0                                    0.018328                  11.917539   \n",
       "5.0                                    0.023865                  11.621834   \n",
       "6.0                                    0.030136                  11.500709   \n",
       "7.0                                    0.039013                  11.198091   \n",
       "8.0                                    0.047011                  11.317397   \n",
       "9.0                                    0.054368                  11.427340   \n",
       "10.0                                   0.064776                  10.895999   \n",
       "11.0                                   0.073897                   8.878811   \n",
       "\n",
       "               Manometer delta P [dpsi]  percent_diff_actual_Dwyer  \n",
       "Data Point #                                                        \n",
       "1.0                            0.005780                  19.268866  \n",
       "2.0                            0.008671                  12.910157  \n",
       "3.0                            0.013006                  12.340250  \n",
       "4.0                            0.018064                  10.631211  \n",
       "5.0                            0.023844                  11.546037  \n",
       "6.0                            0.031070                  14.161300  \n",
       "7.0                            0.039018                  11.209926  \n",
       "8.0                            0.046966                  11.233144  \n",
       "9.0                            0.054914                  12.308318  \n",
       "10.0                           0.064308                  10.247709  \n",
       "11.0                           0.074423                   9.522997  "
      ]
     },
     "execution_count": 31,
     "metadata": {},
     "output_type": "execute_result"
    }
   ],
   "source": [
    "table4.set_index('Data Point #')"
   ]
  },
  {
   "cell_type": "code",
   "execution_count": 32,
   "metadata": {},
   "outputs": [],
   "source": [
    "table4.to_excel('table4.xlsx')"
   ]
  },
  {
   "cell_type": "markdown",
   "metadata": {},
   "source": [
    "### Question 5"
   ]
  },
  {
   "cell_type": "code",
   "execution_count": 33,
   "metadata": {},
   "outputs": [],
   "source": [
    "# 1st method: use linear regression"
   ]
  },
  {
   "cell_type": "code",
   "execution_count": 34,
   "metadata": {},
   "outputs": [],
   "source": [
    "from sklearn.linear_model import LinearRegression"
   ]
  },
  {
   "cell_type": "code",
   "execution_count": 35,
   "metadata": {},
   "outputs": [],
   "source": [
    "model = LinearRegression()"
   ]
  },
  {
   "cell_type": "code",
   "execution_count": 36,
   "metadata": {},
   "outputs": [
    {
     "name": "stdout",
     "output_type": "stream",
     "text": [
      "Help on method fit in module sklearn.linear_model._base:\n",
      "\n",
      "fit(X, y, sample_weight=None) method of sklearn.linear_model._base.LinearRegression instance\n",
      "    Fit linear model.\n",
      "    \n",
      "    Parameters\n",
      "    ----------\n",
      "    X : {array-like, sparse matrix} of shape (n_samples, n_features)\n",
      "        Training data\n",
      "    \n",
      "    y : array-like of shape (n_samples,) or (n_samples, n_targets)\n",
      "        Target values. Will be cast to X's dtype if necessary\n",
      "    \n",
      "    sample_weight : array-like of shape (n_samples,), default=None\n",
      "        Individual weights for each sample\n",
      "    \n",
      "        .. versionadded:: 0.17\n",
      "           parameter *sample_weight* support to LinearRegression.\n",
      "    \n",
      "    Returns\n",
      "    -------\n",
      "    self : returns an instance of self.\n",
      "\n"
     ]
    }
   ],
   "source": [
    "help(model.fit)"
   ]
  },
  {
   "cell_type": "code",
   "execution_count": 37,
   "metadata": {},
   "outputs": [],
   "source": [
    "X = np.array(df[' Omega Transmitter delta P [dpsi]']).reshape(-1,1)\n",
    "y = np.array(df['q_actual(psia)']).reshape(-1,1)"
   ]
  },
  {
   "cell_type": "code",
   "execution_count": 38,
   "metadata": {},
   "outputs": [
    {
     "data": {
      "text/plain": [
       "LinearRegression()"
      ]
     },
     "execution_count": 38,
     "metadata": {},
     "output_type": "execute_result"
    }
   ],
   "source": [
    "model.fit(X,y)"
   ]
  },
  {
   "cell_type": "code",
   "execution_count": 39,
   "metadata": {},
   "outputs": [
    {
     "data": {
      "text/plain": [
       "array([[0.90677787]])"
      ]
     },
     "execution_count": 39,
     "metadata": {},
     "output_type": "execute_result"
    }
   ],
   "source": [
    "model.coef_\n",
    "\n",
    "#this is the calibration coefficinet --> the slope of the linear regression equation!\n"
   ]
  },
  {
   "cell_type": "code",
   "execution_count": 40,
   "metadata": {},
   "outputs": [
    {
     "data": {
      "text/plain": [
       "array([-0.00061765])"
      ]
     },
     "execution_count": 40,
     "metadata": {},
     "output_type": "execute_result"
    }
   ],
   "source": [
    "model.intercept_"
   ]
  },
  {
   "cell_type": "code",
   "execution_count": 41,
   "metadata": {},
   "outputs": [
    {
     "data": {
      "text/plain": [
       "0.9996535628291885"
      ]
     },
     "execution_count": 41,
     "metadata": {},
     "output_type": "execute_result"
    }
   ],
   "source": [
    "model.score(X,y) \n",
    "\n",
    "# as we can see the R^2 value is pretty close to 1"
   ]
  },
  {
   "cell_type": "code",
   "execution_count": 42,
   "metadata": {},
   "outputs": [
    {
     "data": {
      "image/png": "[encoded data removed]",
      "text/plain": [
       "<Figure size 600x400 with 1 Axes>"
      ]
     },
     "metadata": {
      "needs_background": "light"
     },
     "output_type": "display_data"
    }
   ],
   "source": [
    "plt.figure(dpi=100)\n",
    "sns.lineplot(x=df[' Omega Transmitter delta P [dpsi]'],y=df['q_actual(psia)'],data=df)\n",
    "plt.annotate('Y=0.90677787*x - 0.00061765',xy=(0.04,0.02),xycoords='data')\n",
    "plt.title('Linear Curve Fit');"
   ]
  },
  {
   "cell_type": "code",
   "execution_count": 43,
   "metadata": {},
   "outputs": [],
   "source": [
    "# 2nd method: use PolyFit function in Numpy"
   ]
  },
  {
   "cell_type": "code",
   "execution_count": 44,
   "metadata": {},
   "outputs": [],
   "source": [
    "f = np.polyfit(X.flatten(),y.flatten(),1)"
   ]
  },
  {
   "cell_type": "code",
   "execution_count": 45,
   "metadata": {},
   "outputs": [
    {
     "data": {
      "text/plain": [
       "array([ 9.06777875e-01, -6.17654531e-04])"
      ]
     },
     "execution_count": 45,
     "metadata": {},
     "output_type": "execute_result"
    }
   ],
   "source": [
    "f"
   ]
  },
  {
   "cell_type": "code",
   "execution_count": 46,
   "metadata": {},
   "outputs": [
    {
     "data": {
      "image/png": "[encoded data removed]",
      "text/plain": [
       "<Figure size 600x400 with 1 Axes>"
      ]
     },
     "metadata": {
      "needs_background": "light"
     },
     "output_type": "display_data"
    }
   ],
   "source": [
    "plt.figure(dpi=100)\n",
    "sns.lineplot(x=df[' Omega Transmitter delta P [dpsi]'],y=df['q_actual(psia)'],data=df)\n",
    "plt.annotate('Y=9.06777875e-01*x-6.17654531e-04',xy=(0.03,0.02),xycoords='data')\n",
    "plt.title('Linear Curve Fit');"
   ]
  },
  {
   "cell_type": "markdown",
   "metadata": {},
   "source": [
    "### Question 6"
   ]
  },
  {
   "cell_type": "code",
   "execution_count": 47,
   "metadata": {},
   "outputs": [],
   "source": [
    "import sympy as sym\n",
    "from sympy import diff"
   ]
  },
  {
   "cell_type": "code",
   "execution_count": 48,
   "metadata": {},
   "outputs": [],
   "source": [
    "# define velocity in terms of P,P0,rho\n",
    "\n",
    "P,P0,rho = sym.symbols('P,P0,rho')"
   ]
  },
  {
   "cell_type": "code",
   "execution_count": 49,
   "metadata": {},
   "outputs": [],
   "source": [
    "V = sym.sqrt(2*(P0-P)/rho)"
   ]
  },
  {
   "cell_type": "code",
   "execution_count": 50,
   "metadata": {},
   "outputs": [
    {
     "data": {
      "text/latex": [
       "$\\displaystyle \\sqrt{\\frac{- 2 P + 2 P_{0}}{\\rho}}$"
      ],
      "text/plain": [
       "sqrt((-2*P + 2*P0)/rho)"
      ]
     },
     "execution_count": 50,
     "metadata": {},
     "output_type": "execute_result"
    }
   ],
   "source": [
    "V"
   ]
  },
  {
   "cell_type": "code",
   "execution_count": 51,
   "metadata": {},
   "outputs": [
    {
     "data": {
      "text/latex": [
       "$\\displaystyle \\frac{\\sqrt{\\frac{- 2 P + 2 P_{0}}{\\rho}}}{- 2 P + 2 P_{0}}$"
      ],
      "text/plain": [
       "sqrt((-2*P + 2*P0)/rho)/(-2*P + 2*P0)"
      ]
     },
     "execution_count": 51,
     "metadata": {},
     "output_type": "execute_result"
    }
   ],
   "source": [
    "V_diff_P0 = diff(V,P0)\n",
    "V_diff_P0"
   ]
  },
  {
   "cell_type": "code",
   "execution_count": 52,
   "metadata": {},
   "outputs": [
    {
     "data": {
      "text/latex": [
       "$\\displaystyle - \\frac{\\sqrt{\\frac{- 2 P + 2 P_{0}}{\\rho}}}{- 2 P + 2 P_{0}}$"
      ],
      "text/plain": [
       "-sqrt((-2*P + 2*P0)/rho)/(-2*P + 2*P0)"
      ]
     },
     "execution_count": 52,
     "metadata": {},
     "output_type": "execute_result"
    }
   ],
   "source": [
    "V_diff_P = diff(V,P)\n",
    "V_diff_P"
   ]
  },
  {
   "cell_type": "code",
   "execution_count": 53,
   "metadata": {},
   "outputs": [
    {
     "data": {
      "text/latex": [
       "$\\displaystyle - \\frac{\\sqrt{\\frac{- 2 P + 2 P_{0}}{\\rho}}}{2 \\rho}$"
      ],
      "text/plain": [
       "-sqrt((-2*P + 2*P0)/rho)/(2*rho)"
      ]
     },
     "execution_count": 53,
     "metadata": {},
     "output_type": "execute_result"
    }
   ],
   "source": [
    "V_diff_rho = diff(V,rho)\n",
    "V_diff_rho"
   ]
  },
  {
   "cell_type": "markdown",
   "metadata": {},
   "source": [
    "1.RSS Uncertainty equation for actual velocity:\n",
    "$U_{\\text {Vactual }}=\\sqrt{\\left(\\frac{\\partial V}{\\partial p_{o}} U_{p_{o}}\\right)^{2}+\\left(\\frac{\\partial V}{\\partial p_{s}} U_{p_{s}}\\right)^{2}+\\left(\\frac{\\partial V}{\\partial \\rho} U_{\\rho}\\right)^{2}}$"
   ]
  },
  {
   "cell_type": "markdown",
   "metadata": {},
   "source": [
    "2.Uncertainty in density :\n",
    "$U_{\\rho}=\\sqrt{\\left(\\frac{\\partial \\rho}{\\partial p_{a m b}} U_{p_{a m b}}\\right)^{2}+\\left(\\frac{\\partial \\rho}{\\partial R} U_{R}\\right)^{2}+\\left(\\frac{\\partial \\rho}{\\partial T_{a m b}} U_{T_{a m b}}\\right)^{2}}$"
   ]
  },
  {
   "cell_type": "markdown",
   "metadata": {},
   "source": [
    "3.Uncertainty in pressure:\n",
    "$U_{p}=\\sqrt{\\left(1 / n_{p 1}\\right)^{2}+\\left(1 / n_{p 2}\\right)^{2}+\\left(1 / n U_{p 3}\\right)^{2}+\\ldots+\\left(1 / n U_{p n}\\right)^{2}}$"
   ]
  },
  {
   "cell_type": "markdown",
   "metadata": {},
   "source": [
    "$\\left(U_{P_{0}}\\right)_{\\text {single }}=\\left(U_{P}\\right)_{\\text {single }}=0.001 \\times 1 \\mathrm{psi}=0.001 \\mathrm{psi}=6.89 \\mathrm{~Pa}$"
   ]
  },
  {
   "cell_type": "markdown",
   "metadata": {},
   "source": [
    "$U_{P}=\\sqrt{\\frac{\\left(U_{P}\\right)_{\\text {single }}^{2}}{n}}$"
   ]
  },
  {
   "cell_type": "code",
   "execution_count": 54,
   "metadata": {},
   "outputs": [],
   "source": [
    "#therefore,\n",
    "U_P0 = 2.3\n",
    "U_P = 3.08"
   ]
  },
  {
   "cell_type": "markdown",
   "metadata": {},
   "source": [
    "$U_{P_{amb}}=0.148^{\\prime \\prime} H g=500 P a$\n",
    "\n",
    "\n",
    "$U_{T_{amb}}= 1.8 F =256.372 Kelvin $"
   ]
  },
  {
   "cell_type": "code",
   "execution_count": 55,
   "metadata": {},
   "outputs": [],
   "source": [
    "#Use ideal gas law to take partial derivatives of rho with respect to R,T,and P\n",
    "# P = rho*R*T\n",
    "\n",
    "P_amb,R,T_amb = sym.symbols('P_amb,R,T_amb')\n",
    "RHO = P_amb/(R*T_amb)"
   ]
  },
  {
   "cell_type": "code",
   "execution_count": 56,
   "metadata": {},
   "outputs": [],
   "source": [
    "RHO_diff_P = diff(RHO,P_amb)\n",
    "RHO_diff_T = diff(RHO,T_amb)"
   ]
  },
  {
   "cell_type": "code",
   "execution_count": 57,
   "metadata": {},
   "outputs": [
    {
     "data": {
      "text/latex": [
       "$\\displaystyle \\frac{1}{R T_{amb}}$"
      ],
      "text/plain": [
       "1/(R*T_amb)"
      ]
     },
     "execution_count": 57,
     "metadata": {},
     "output_type": "execute_result"
    }
   ],
   "source": [
    "RHO_diff_P"
   ]
  },
  {
   "cell_type": "code",
   "execution_count": 58,
   "metadata": {},
   "outputs": [
    {
     "data": {
      "text/latex": [
       "$\\displaystyle - \\frac{P_{amb}}{R T_{amb}^{2}}$"
      ],
      "text/plain": [
       "-P_amb/(R*T_amb**2)"
      ]
     },
     "execution_count": 58,
     "metadata": {},
     "output_type": "execute_result"
    }
   ],
   "source": [
    "RHO_diff_T"
   ]
  },
  {
   "cell_type": "code",
   "execution_count": 59,
   "metadata": {},
   "outputs": [],
   "source": [
    "#assuming uncertainty in R = 0, let's evaluate equation NO.2:\n",
    "\n",
    "uncertainty_rho = sym.sqrt((RHO_diff_P*500)**2+0+(RHO_diff_T*256.372)**2)"
   ]
  },
  {
   "cell_type": "code",
   "execution_count": 60,
   "metadata": {},
   "outputs": [
    {
     "data": {
      "text/latex": [
       "$\\displaystyle 500 \\sqrt{\\frac{0.262906409536 P_{amb}^{2}}{R^{2} T_{amb}^{4}} + \\frac{1}{R^{2} T_{amb}^{2}}}$"
      ],
      "text/plain": [
       "500*sqrt(0.262906409536*P_amb**2/(R**2*T_amb**4) + 1/(R**2*T_amb**2))"
      ]
     },
     "execution_count": 60,
     "metadata": {},
     "output_type": "execute_result"
    }
   ],
   "source": [
    "uncertainty_rho"
   ]
  },
  {
   "cell_type": "code",
   "execution_count": 61,
   "metadata": {},
   "outputs": [],
   "source": [
    "uncertainty_rho_numeric = sym.lambdify((R,T_amb,P_amb),uncertainty_rho)\n",
    "\n",
    "R = 287 #IS units\n",
    "T_amb = 300.15 #Kelvin\n",
    "P_amb = 98102.88 #pascal\n",
    "rho_amb = P_amb/(R*T_amb)\n",
    "#The numbers above come from the previously constructed experimental data table, 'df'"
   ]
  },
  {
   "cell_type": "code",
   "execution_count": 62,
   "metadata": {},
   "outputs": [
    {
     "data": {
      "text/plain": [
       "0.9727505562406977"
      ]
     },
     "execution_count": 62,
     "metadata": {},
     "output_type": "execute_result"
    }
   ],
   "source": [
    "uncertainty_rho_numeric(R,T_amb,P_amb)\n",
    "#This is the numeric result of equation NO.2"
   ]
  },
  {
   "cell_type": "code",
   "execution_count": 63,
   "metadata": {},
   "outputs": [
    {
     "data": {
      "text/latex": [
       "$\\displaystyle 3.8440083246528 \\sqrt{\\frac{1}{\\rho \\left(- 2 P + 2 P_{0}\\right)} + \\frac{0.0160093738100381 \\left(- 2 P + 2 P_{0}\\right)}{\\rho^{3}}}$"
      ],
      "text/plain": [
       "3.8440083246528*sqrt(1/(rho*(-2*P + 2*P0)) + 0.0160093738100381*(-2*P + 2*P0)/rho**3)"
      ]
     },
     "execution_count": 63,
     "metadata": {},
     "output_type": "execute_result"
    }
   ],
   "source": [
    "#Now let's evaluate equation NO.1:\n",
    "uncertainty_V = sym.sqrt((V_diff_P0*U_P0)**2+(V_diff_P*U_P)**2+(V_diff_rho*uncertainty_rho_numeric(R,T_amb,P_amb))**2)\n",
    "uncertainty_V"
   ]
  },
  {
   "cell_type": "code",
   "execution_count": 64,
   "metadata": {},
   "outputs": [],
   "source": [
    "uncertainty_V_numeric = sym.lambdify((P,P0,rho),uncertainty_V)"
   ]
  },
  {
   "cell_type": "code",
   "execution_count": 65,
   "metadata": {},
   "outputs": [],
   "source": [
    "#now convert units to IS units"
   ]
  },
  {
   "cell_type": "code",
   "execution_count": 66,
   "metadata": {},
   "outputs": [],
   "source": [
    "df['avg_stat_pressure(Pa)']=df['avg_stat_pressure(psia)']*6894.76"
   ]
  },
  {
   "cell_type": "code",
   "execution_count": 67,
   "metadata": {},
   "outputs": [],
   "source": [
    "df['avg_tot_pressure(Pa)']=df['avg_tot_pressure(psia)']*6894.76"
   ]
  },
  {
   "cell_type": "code",
   "execution_count": 68,
   "metadata": {},
   "outputs": [],
   "source": [
    "uncertainty_V_list = []\n",
    "\n",
    "for i in range(0,len(df['avg_stat_pressure(Pa)'])):\n",
    "    uncertainty_V_list.append(uncertainty_V_numeric(df['avg_stat_pressure(Pa)'][i],\n",
    "                                                    df['avg_tot_pressure(Pa)'][i],\n",
    "                                                    rho_amb))"
   ]
  },
  {
   "cell_type": "code",
   "execution_count": 69,
   "metadata": {},
   "outputs": [],
   "source": [
    "df['uncertainty_velocity(m/s)'] = uncertainty_V_list"
   ]
  },
  {
   "cell_type": "code",
   "execution_count": 84,
   "metadata": {},
   "outputs": [],
   "source": [
    "percent_uncertainty_V_list = []\n",
    "v_j_list = []\n",
    "for j in range(0,len(df['avg_stat_pressure(Pa)'])):\n",
    "    v_j = np.sqrt(2*(df['avg_tot_pressure(Pa)'][j]-df['avg_stat_pressure(Pa)'][j])/rho_amb)\n",
    "    v_j_list.append(v_j)\n",
    "    percent_uncertainty_V_list.append(uncertainty_V_list[j]/v_j)"
   ]
  },
  {
   "cell_type": "code",
   "execution_count": 86,
   "metadata": {},
   "outputs": [],
   "source": [
    "df['actual_velocity(m/s)']=v_j_list"
   ]
  },
  {
   "cell_type": "code",
   "execution_count": 87,
   "metadata": {},
   "outputs": [
    {
     "data": {
      "text/plain": [
       "[0.43123806031526746,\n",
       " 0.42867322951347775,\n",
       " 0.4277800664807104,\n",
       " 0.4274296770679674,\n",
       " 0.42728519787566654,\n",
       " 0.4272086172108965,\n",
       " 0.4271565261940185,\n",
       " 0.4271330725658859,\n",
       " 0.4271199632617476,\n",
       " 0.427108041655667,\n",
       " 0.4271007973167267]"
      ]
     },
     "execution_count": 87,
     "metadata": {},
     "output_type": "execute_result"
    }
   ],
   "source": [
    "percent_uncertainty_V_list"
   ]
  },
  {
   "cell_type": "code",
   "execution_count": 88,
   "metadata": {},
   "outputs": [],
   "source": [
    "df['percent_uncertainty_velocity(%)'] = percent_uncertainty_V_list"
   ]
  },
  {
   "cell_type": "code",
   "execution_count": 89,
   "metadata": {},
   "outputs": [
    {
     "data": {
      "text/plain": [
       "Index(['Data Point #', ' Motor Speed [RPM]', ' Manometer delta P [dpsi]',\n",
       "       ' Ambient Temp.[R]', ' Viscosity [slug/ft s]', ' Ambient Press. [psia]',\n",
       "       ' Omega Transmitter delta P [dpsi]', ' RakeT1 [psid]', 'RakeT2 [psid]',\n",
       "       'RakeT3 [psid]', 'RakeT4 [psid]', 'RakeT5 [psid]', 'RakeT6 [psid]',\n",
       "       'RakeT7 [psid]', 'RakeT8 [psid]', 'RakeT9 [psid]', 'RakeS1 [psid]',\n",
       "       'RakeS2 [psid]', 'RakeS3 [psid]', 'RakeS4 [psid]', 'RakeS5 [psid]',\n",
       "       'avg_tot_pressure(psia)', 'avg_stat_pressure(psia)', 'q_actual(psia)',\n",
       "       'density(slug/ft^3)', 'actual_velocity(ft/s)', 'Re',\n",
       "       'sound_speed(ft/s)', 'Mach number', 'tot_pressure_var1',\n",
       "       'tot_pressure_var2', 'tot_pressure_var3', 'tot_pressure_var4',\n",
       "       'tot_pressure_var5', 'tot_pressure_var6', 'tot_pressure_var7',\n",
       "       'tot_pressure_var8', 'tot_pressure_var9', 'stat_pressure_var1',\n",
       "       'stat_pressure_var2', 'stat_pressure_var3', 'stat_pressure_var4',\n",
       "       'stat_pressure_var5', 'percent_diff_actual_Omega',\n",
       "       'percent_diff_actual_Dwyer', 'avg_stat_pressure(Pa)',\n",
       "       'avg_tot_pressure(Pa)', 'uncertainty_velocity(m/s)',\n",
       "       'percent_uncertainty_velocity(%)', 'actual_velocity(m/s)'],\n",
       "      dtype='object')"
      ]
     },
     "execution_count": 89,
     "metadata": {},
     "output_type": "execute_result"
    }
   ],
   "source": [
    "df.columns"
   ]
  },
  {
   "cell_type": "code",
   "execution_count": 90,
   "metadata": {},
   "outputs": [],
   "source": [
    "table6 = df[['Data Point #',' Motor Speed [RPM]','actual_velocity(m/s)','uncertainty_velocity(m/s)','percent_uncertainty_velocity(%)']]"
   ]
  },
  {
   "cell_type": "code",
   "execution_count": 91,
   "metadata": {},
   "outputs": [
    {
     "data": {
      "text/html": [
       "<div>\n",
       "<style scoped>\n",
       "    .dataframe tbody tr th:only-of-type {\n",
       "        vertical-align: middle;\n",
       "    }\n",
       "\n",
       "    .dataframe tbody tr th {\n",
       "        vertical-align: top;\n",
       "    }\n",
       "\n",
       "    .dataframe thead th {\n",
       "        text-align: right;\n",
       "    }\n",
       "</style>\n",
       "<table border=\"1\" class=\"dataframe\">\n",
       "  <thead>\n",
       "    <tr style=\"text-align: right;\">\n",
       "      <th></th>\n",
       "      <th>Data Point #</th>\n",
       "      <th>Motor Speed [RPM]</th>\n",
       "      <th>actual_velocity(m/s)</th>\n",
       "      <th>uncertainty_velocity(m/s)</th>\n",
       "      <th>percent_uncertainty_velocity(%)</th>\n",
       "    </tr>\n",
       "  </thead>\n",
       "  <tbody>\n",
       "    <tr>\n",
       "      <th>0</th>\n",
       "      <td>1.0</td>\n",
       "      <td>400.0</td>\n",
       "      <td>7.517020</td>\n",
       "      <td>3.241625</td>\n",
       "      <td>0.431238</td>\n",
       "    </tr>\n",
       "    <tr>\n",
       "      <th>1</th>\n",
       "      <td>2.0</td>\n",
       "      <td>500.0</td>\n",
       "      <td>9.562128</td>\n",
       "      <td>4.099028</td>\n",
       "      <td>0.428673</td>\n",
       "    </tr>\n",
       "    <tr>\n",
       "      <th>2</th>\n",
       "      <td>3.0</td>\n",
       "      <td>600.0</td>\n",
       "      <td>11.749421</td>\n",
       "      <td>5.026168</td>\n",
       "      <td>0.427780</td>\n",
       "    </tr>\n",
       "    <tr>\n",
       "      <th>3</th>\n",
       "      <td>4.0</td>\n",
       "      <td>700.0</td>\n",
       "      <td>13.981157</td>\n",
       "      <td>5.975961</td>\n",
       "      <td>0.427430</td>\n",
       "    </tr>\n",
       "    <tr>\n",
       "      <th>4</th>\n",
       "      <td>5.0</td>\n",
       "      <td>800.0</td>\n",
       "      <td>15.980698</td>\n",
       "      <td>6.828316</td>\n",
       "      <td>0.427285</td>\n",
       "    </tr>\n",
       "    <tr>\n",
       "      <th>5</th>\n",
       "      <td>6.0</td>\n",
       "      <td>900.0</td>\n",
       "      <td>17.970325</td>\n",
       "      <td>7.677078</td>\n",
       "      <td>0.427209</td>\n",
       "    </tr>\n",
       "    <tr>\n",
       "      <th>6</th>\n",
       "      <td>7.0</td>\n",
       "      <td>1000.0</td>\n",
       "      <td>20.481382</td>\n",
       "      <td>8.748756</td>\n",
       "      <td>0.427157</td>\n",
       "    </tr>\n",
       "    <tr>\n",
       "      <th>7</th>\n",
       "      <td>8.0</td>\n",
       "      <td>1100.0</td>\n",
       "      <td>22.467889</td>\n",
       "      <td>9.596779</td>\n",
       "      <td>0.427133</td>\n",
       "    </tr>\n",
       "    <tr>\n",
       "      <th>8</th>\n",
       "      <td>9.0</td>\n",
       "      <td>1200.0</td>\n",
       "      <td>24.147167</td>\n",
       "      <td>10.313737</td>\n",
       "      <td>0.427120</td>\n",
       "    </tr>\n",
       "    <tr>\n",
       "      <th>9</th>\n",
       "      <td>10.0</td>\n",
       "      <td>1300.0</td>\n",
       "      <td>26.436134</td>\n",
       "      <td>11.291085</td>\n",
       "      <td>0.427108</td>\n",
       "    </tr>\n",
       "    <tr>\n",
       "      <th>10</th>\n",
       "      <td>11.0</td>\n",
       "      <td>1400.0</td>\n",
       "      <td>28.554061</td>\n",
       "      <td>12.195462</td>\n",
       "      <td>0.427101</td>\n",
       "    </tr>\n",
       "  </tbody>\n",
       "</table>\n",
       "</div>"
      ],
      "text/plain": [
       "    Data Point #   Motor Speed [RPM]  actual_velocity(m/s)  \\\n",
       "0            1.0               400.0              7.517020   \n",
       "1            2.0               500.0              9.562128   \n",
       "2            3.0               600.0             11.749421   \n",
       "3            4.0               700.0             13.981157   \n",
       "4            5.0               800.0             15.980698   \n",
       "5            6.0               900.0             17.970325   \n",
       "6            7.0              1000.0             20.481382   \n",
       "7            8.0              1100.0             22.467889   \n",
       "8            9.0              1200.0             24.147167   \n",
       "9           10.0              1300.0             26.436134   \n",
       "10          11.0              1400.0             28.554061   \n",
       "\n",
       "    uncertainty_velocity(m/s)  percent_uncertainty_velocity(%)  \n",
       "0                    3.241625                         0.431238  \n",
       "1                    4.099028                         0.428673  \n",
       "2                    5.026168                         0.427780  \n",
       "3                    5.975961                         0.427430  \n",
       "4                    6.828316                         0.427285  \n",
       "5                    7.677078                         0.427209  \n",
       "6                    8.748756                         0.427157  \n",
       "7                    9.596779                         0.427133  \n",
       "8                   10.313737                         0.427120  \n",
       "9                   11.291085                         0.427108  \n",
       "10                  12.195462                         0.427101  "
      ]
     },
     "execution_count": 91,
     "metadata": {},
     "output_type": "execute_result"
    }
   ],
   "source": [
    "table6"
   ]
  },
  {
   "cell_type": "code",
   "execution_count": 92,
   "metadata": {},
   "outputs": [
    {
     "data": {
      "text/html": [
       "<div>\n",
       "<style scoped>\n",
       "    .dataframe tbody tr th:only-of-type {\n",
       "        vertical-align: middle;\n",
       "    }\n",
       "\n",
       "    .dataframe tbody tr th {\n",
       "        vertical-align: top;\n",
       "    }\n",
       "\n",
       "    .dataframe thead th {\n",
       "        text-align: right;\n",
       "    }\n",
       "</style>\n",
       "<table border=\"1\" class=\"dataframe\">\n",
       "  <thead>\n",
       "    <tr style=\"text-align: right;\">\n",
       "      <th></th>\n",
       "      <th>Motor Speed [RPM]</th>\n",
       "      <th>actual_velocity(m/s)</th>\n",
       "      <th>uncertainty_velocity(m/s)</th>\n",
       "      <th>percent_uncertainty_velocity(%)</th>\n",
       "    </tr>\n",
       "    <tr>\n",
       "      <th>Data Point #</th>\n",
       "      <th></th>\n",
       "      <th></th>\n",
       "      <th></th>\n",
       "      <th></th>\n",
       "    </tr>\n",
       "  </thead>\n",
       "  <tbody>\n",
       "    <tr>\n",
       "      <th>1.0</th>\n",
       "      <td>400.0</td>\n",
       "      <td>7.517020</td>\n",
       "      <td>3.241625</td>\n",
       "      <td>0.431238</td>\n",
       "    </tr>\n",
       "    <tr>\n",
       "      <th>2.0</th>\n",
       "      <td>500.0</td>\n",
       "      <td>9.562128</td>\n",
       "      <td>4.099028</td>\n",
       "      <td>0.428673</td>\n",
       "    </tr>\n",
       "    <tr>\n",
       "      <th>3.0</th>\n",
       "      <td>600.0</td>\n",
       "      <td>11.749421</td>\n",
       "      <td>5.026168</td>\n",
       "      <td>0.427780</td>\n",
       "    </tr>\n",
       "    <tr>\n",
       "      <th>4.0</th>\n",
       "      <td>700.0</td>\n",
       "      <td>13.981157</td>\n",
       "      <td>5.975961</td>\n",
       "      <td>0.427430</td>\n",
       "    </tr>\n",
       "    <tr>\n",
       "      <th>5.0</th>\n",
       "      <td>800.0</td>\n",
       "      <td>15.980698</td>\n",
       "      <td>6.828316</td>\n",
       "      <td>0.427285</td>\n",
       "    </tr>\n",
       "    <tr>\n",
       "      <th>6.0</th>\n",
       "      <td>900.0</td>\n",
       "      <td>17.970325</td>\n",
       "      <td>7.677078</td>\n",
       "      <td>0.427209</td>\n",
       "    </tr>\n",
       "    <tr>\n",
       "      <th>7.0</th>\n",
       "      <td>1000.0</td>\n",
       "      <td>20.481382</td>\n",
       "      <td>8.748756</td>\n",
       "      <td>0.427157</td>\n",
       "    </tr>\n",
       "    <tr>\n",
       "      <th>8.0</th>\n",
       "      <td>1100.0</td>\n",
       "      <td>22.467889</td>\n",
       "      <td>9.596779</td>\n",
       "      <td>0.427133</td>\n",
       "    </tr>\n",
       "    <tr>\n",
       "      <th>9.0</th>\n",
       "      <td>1200.0</td>\n",
       "      <td>24.147167</td>\n",
       "      <td>10.313737</td>\n",
       "      <td>0.427120</td>\n",
       "    </tr>\n",
       "    <tr>\n",
       "      <th>10.0</th>\n",
       "      <td>1300.0</td>\n",
       "      <td>26.436134</td>\n",
       "      <td>11.291085</td>\n",
       "      <td>0.427108</td>\n",
       "    </tr>\n",
       "    <tr>\n",
       "      <th>11.0</th>\n",
       "      <td>1400.0</td>\n",
       "      <td>28.554061</td>\n",
       "      <td>12.195462</td>\n",
       "      <td>0.427101</td>\n",
       "    </tr>\n",
       "  </tbody>\n",
       "</table>\n",
       "</div>"
      ],
      "text/plain": [
       "               Motor Speed [RPM]  actual_velocity(m/s)  \\\n",
       "Data Point #                                             \n",
       "1.0                        400.0              7.517020   \n",
       "2.0                        500.0              9.562128   \n",
       "3.0                        600.0             11.749421   \n",
       "4.0                        700.0             13.981157   \n",
       "5.0                        800.0             15.980698   \n",
       "6.0                        900.0             17.970325   \n",
       "7.0                       1000.0             20.481382   \n",
       "8.0                       1100.0             22.467889   \n",
       "9.0                       1200.0             24.147167   \n",
       "10.0                      1300.0             26.436134   \n",
       "11.0                      1400.0             28.554061   \n",
       "\n",
       "              uncertainty_velocity(m/s)  percent_uncertainty_velocity(%)  \n",
       "Data Point #                                                              \n",
       "1.0                            3.241625                         0.431238  \n",
       "2.0                            4.099028                         0.428673  \n",
       "3.0                            5.026168                         0.427780  \n",
       "4.0                            5.975961                         0.427430  \n",
       "5.0                            6.828316                         0.427285  \n",
       "6.0                            7.677078                         0.427209  \n",
       "7.0                            8.748756                         0.427157  \n",
       "8.0                            9.596779                         0.427133  \n",
       "9.0                           10.313737                         0.427120  \n",
       "10.0                          11.291085                         0.427108  \n",
       "11.0                          12.195462                         0.427101  "
      ]
     },
     "execution_count": 92,
     "metadata": {},
     "output_type": "execute_result"
    }
   ],
   "source": [
    "table6.set_index('Data Point #')"
   ]
  },
  {
   "cell_type": "code",
   "execution_count": 93,
   "metadata": {},
   "outputs": [],
   "source": [
    "table6.to_excel('table6.xlsx')"
   ]
  },
  {
   "cell_type": "code",
   "execution_count": 94,
   "metadata": {},
   "outputs": [
    {
     "data": {
      "text/plain": [
       "Text(0.5, 1.0, 'Uncertainty in Velocity vs. Actual Velocity')"
      ]
     },
     "execution_count": 94,
     "metadata": {},
     "output_type": "execute_result"
    },
    {
     "data": {
      "image/png": "[encoded data removed]",
      "text/plain": [
       "<Figure size 600x400 with 1 Axes>"
      ]
     },
     "metadata": {
      "needs_background": "light"
     },
     "output_type": "display_data"
    }
   ],
   "source": [
    "plt.figure(dpi=100);\n",
    "sns.scatterplot(x='actual_velocity(m/s)',y='uncertainty_velocity(m/s)',data=df)\n",
    "plt.title('Uncertainty in Velocity vs. Actual Velocity')"
   ]
  },
  {
   "cell_type": "code",
   "execution_count": null,
   "metadata": {},
   "outputs": [],
   "source": []
  }
 ],
 "metadata": {
  "kernelspec": {
   "display_name": "Python 3 (ipykernel)",
   "language": "python",
   "name": "python3"
  },
  "language_info": {
   "codemirror_mode": {
    "name": "ipython",
    "version": 3
   },
   "file_extension": ".py",
   "mimetype": "text/x-python",
   "name": "python",
   "nbconvert_exporter": "python",
   "pygments_lexer": "ipython3",
   "version": "3.7.6"
  }
 },
 "nbformat": 4,
 "nbformat_minor": 4
}
